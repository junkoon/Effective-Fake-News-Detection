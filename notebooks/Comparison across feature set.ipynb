{
 "cells": [
  {
   "cell_type": "code",
   "execution_count": 2,
   "id": "b85345d1",
   "metadata": {},
   "outputs": [],
   "source": [
    "import pandas as pd\n",
    "import numpy as np\n",
    "from sklearn.model_selection import train_test_split\n",
    "from sklearn.feature_extraction.text import TfidfVectorizer\n",
    "from sklearn.preprocessing import StandardScaler\n",
    "from sklearn.ensemble import RandomForestClassifier\n",
    "from sklearn.metrics import classification_report\n"
   ]
  },
  {
   "cell_type": "code",
   "execution_count": 3,
   "id": "fd67da1b",
   "metadata": {},
   "outputs": [],
   "source": [
    "# ------------------------------------------------------------------------------\n",
    "# Load the datasets\n",
    "# Adjust the paths as necessary for your environment.\n",
    "df_fake = pd.read_csv(\"data/fake_with_metadata.csv\")\n",
    "df_real = pd.read_csv(\"data/real_with_metadata.csv\")  \n",
    "\n",
    "# ------------------------------------------------------------------------------\n",
    "# Add labels (assuming: 0 for fake and 1 for real)\n",
    "df_fake[\"labels\"] = 0\n",
    "df_real[\"labels\"] = 1\n",
    "\n",
    "# Combine into one DataFrame\n",
    "data = pd.concat([df_fake, df_real], ignore_index=True)\n",
    "\n",
    "# ------------------------------------------------------------------------------\n",
    "# Fill missing values for the relevant columns\n",
    "for col in ['news_url', 'title', 'meta_title', 'meta_description', 'combined_text']:\n",
    "    data[col] = data[col].fillna(\"\")"
   ]
  },
  {
   "cell_type": "code",
   "execution_count": 4,
   "id": "027702c4",
   "metadata": {},
   "outputs": [
    {
     "name": "stdout",
     "output_type": "stream",
     "text": [
      "----- Experiment 1: Title-Only Model -----\n",
      "\n",
      "Title-Only Features Performance:\n",
      "              precision    recall  f1-score   support\n",
      "\n",
      "           0       0.76      0.46      0.58      1164\n",
      "           1       0.84      0.95      0.89      3521\n",
      "\n",
      "    accuracy                           0.83      4685\n",
      "   macro avg       0.80      0.71      0.74      4685\n",
      "weighted avg       0.82      0.83      0.82      4685\n",
      "\n"
     ]
    }
   ],
   "source": [
    "# ------------------------------------------------------------------------------\n",
    "# Experiment 1: Title-Only Model\n",
    "# ------------------------------------------------------------------------------\n",
    "print(\"----- Experiment 1: Title-Only Model -----\\n\")\n",
    "\n",
    "X_title = data[['title']]\n",
    "y = data['labels']\n",
    "\n",
    "# Split into training and testing sets\n",
    "X_train_title, X_test_title, y_train, y_test = train_test_split(\n",
    "    X_title, y, test_size=0.2, random_state=42\n",
    ")\n",
    "\n",
    "# Vectorize titles using TF-IDF\n",
    "tfidf_title = TfidfVectorizer(max_features=5000)\n",
    "X_train_title_features = tfidf_title.fit_transform(X_train_title['title']).toarray()\n",
    "X_test_title_features  = tfidf_title.transform(X_test_title['title']).toarray()\n",
    "\n",
    "# Train and evaluate classifier using title-only features\n",
    "model_title = RandomForestClassifier(random_state=42)\n",
    "model_title.fit(X_train_title_features, y_train)\n",
    "y_pred_title = model_title.predict(X_test_title_features)\n",
    "\n",
    "print(\"Title-Only Features Performance:\")\n",
    "print(classification_report(y_test, y_pred_title))\n",
    "\n",
    "\n",
    "# ------------------------------------------------------------------------------\n",
    "# Define a helper function to extract URL features\n",
    "# This is just an example; adapt as needed.\n",
    "def extract_url_features(url):\n",
    "    if pd.isna(url) or url == \"\":\n",
    "        return [0, 0, 0]\n",
    "    # Example features: URL length, count of \"/\" characters, count of \"?\" characters.\n",
    "    length = len(url)\n",
    "    count_slashes = url.count('/')\n",
    "    count_params = url.count('?')\n",
    "    return [length, count_slashes, count_params]"
   ]
  },
  {
   "cell_type": "code",
   "execution_count": 5,
   "id": "d4cec8c3",
   "metadata": {},
   "outputs": [
    {
     "name": "stdout",
     "output_type": "stream",
     "text": [
      "\n",
      "----- Experiment 2: URL-Only Model -----\n",
      "\n",
      "URL-Only Features Performance:\n",
      "              precision    recall  f1-score   support\n",
      "\n",
      "           0       0.73      0.52      0.61      1164\n",
      "           1       0.86      0.94      0.89      3521\n",
      "\n",
      "    accuracy                           0.83      4685\n",
      "   macro avg       0.79      0.73      0.75      4685\n",
      "weighted avg       0.82      0.83      0.82      4685\n",
      "\n"
     ]
    }
   ],
   "source": [
    "# ------------------------------------------------------------------------------\n",
    "# Experiment 2: URL-Only Model\n",
    "# ------------------------------------------------------------------------------\n",
    "print(\"\\n----- Experiment 2: URL-Only Model -----\\n\")\n",
    "\n",
    "X_url = data['news_url']\n",
    "\n",
    "# Split the URL data\n",
    "X_train_url, X_test_url, y_train, y_test = train_test_split(\n",
    "    X_url, y, test_size=0.2, random_state=42\n",
    ")\n",
    "\n",
    "# Extract URL features for each sample in the train and test splits\n",
    "train_url_features = pd.DataFrame([extract_url_features(url) for url in X_train_url])\n",
    "test_url_features  = pd.DataFrame([extract_url_features(url) for url in X_test_url])\n",
    "\n",
    "# Scale URL features\n",
    "scaler_url = StandardScaler()\n",
    "train_url_features_scaled = scaler_url.fit_transform(train_url_features)\n",
    "test_url_features_scaled  = scaler_url.transform(test_url_features)\n",
    "\n",
    "# Train and evaluate classifier using URL-only features\n",
    "model_url = RandomForestClassifier(random_state=42)\n",
    "model_url.fit(train_url_features_scaled, y_train)\n",
    "y_pred_url = model_url.predict(test_url_features_scaled)\n",
    "\n",
    "print(\"URL-Only Features Performance:\")\n",
    "print(classification_report(y_test, y_pred_url))"
   ]
  },
  {
   "cell_type": "code",
   "execution_count": 6,
   "id": "03dbdeb0",
   "metadata": {},
   "outputs": [
    {
     "name": "stdout",
     "output_type": "stream",
     "text": [
      "\n",
      "----- Experiment 3: All-Metadata (Text + URL) Model -----\n",
      "\n",
      "All-Metadata (Text + URL) Features Performance:\n",
      "              precision    recall  f1-score   support\n",
      "\n",
      "           0       0.89      0.66      0.76      1164\n",
      "           1       0.90      0.97      0.93      3521\n",
      "\n",
      "    accuracy                           0.90      4685\n",
      "   macro avg       0.90      0.82      0.85      4685\n",
      "weighted avg       0.90      0.90      0.89      4685\n",
      "\n"
     ]
    }
   ],
   "source": [
    "# ------------------------------------------------------------------------------\n",
    "# Experiment 3: All-Metadata Model (Text + URL Features)\n",
    "# ------------------------------------------------------------------------------\n",
    "print(\"\\n----- Experiment 3: All-Metadata (Text + URL) Model -----\\n\")\n",
    "\n",
    "# Combine the relevant text fields into a single string.\n",
    "def combine_text(row):\n",
    "    texts = [\n",
    "        str(row['title']),\n",
    "        str(row['meta_title']),\n",
    "        str(row['meta_description']),\n",
    "        str(row['combined_text'])\n",
    "    ]\n",
    "    return \" \".join(texts)\n",
    "\n",
    "data['all_text'] = data.apply(combine_text, axis=1)\n",
    "\n",
    "# Prepare features using both all_text and news_url\n",
    "X_all = data[['all_text', 'news_url']]\n",
    "y_all = data['labels']\n",
    "\n",
    "# Split combined data into training and test sets.\n",
    "X_train_all, X_test_all, y_train_all, y_test_all = train_test_split(\n",
    "    X_all, y_all, test_size=0.2, random_state=42\n",
    ")\n",
    "\n",
    "# ---------- Text Features ----------\n",
    "tfidf_all = TfidfVectorizer(max_features=5000)\n",
    "X_train_text_features = tfidf_all.fit_transform(X_train_all['all_text']).toarray()\n",
    "X_test_text_features  = tfidf_all.transform(X_test_all['all_text']).toarray()\n",
    "\n",
    "# ---------- URL Features ----------\n",
    "train_url_features_all = pd.DataFrame([\n",
    "    extract_url_features(url) for url in X_train_all['news_url']\n",
    "])\n",
    "test_url_features_all = pd.DataFrame([\n",
    "    extract_url_features(url) for url in X_test_all['news_url']\n",
    "])\n",
    "\n",
    "scaler_all = StandardScaler()\n",
    "train_url_features_all_scaled = scaler_all.fit_transform(train_url_features_all)\n",
    "test_url_features_all_scaled  = scaler_all.transform(test_url_features_all)\n",
    "\n",
    "# ---------- Combine Text and URL Features ----------\n",
    "X_train_combined = np.hstack((X_train_text_features, train_url_features_all_scaled))\n",
    "X_test_combined  = np.hstack((X_test_text_features, test_url_features_all_scaled))\n",
    "\n",
    "# Train and evaluate classifier on the combined feature set.\n",
    "model_combined = RandomForestClassifier(random_state=42)\n",
    "model_combined.fit(X_train_combined, y_train_all)\n",
    "y_pred_combined = model_combined.predict(X_test_combined)\n",
    "\n",
    "print(\"All-Metadata (Text + URL) Features Performance:\")\n",
    "print(classification_report(y_test_all, y_pred_combined))"
   ]
  },
  {
   "cell_type": "code",
   "execution_count": 7,
   "id": "6e44490b",
   "metadata": {},
   "outputs": [],
   "source": [
    "from sklearn.metrics import classification_report\n",
    "\n",
    "# Get the classification reports as dictionaries for each model\n",
    "title_report = classification_report(y_test, y_pred_title, output_dict=True)\n",
    "url_report = classification_report(y_test, y_pred_url, output_dict=True)\n",
    "combined_report = classification_report(y_test_all, y_pred_combined, output_dict=True)\n"
   ]
  },
  {
   "cell_type": "code",
   "execution_count": 8,
   "id": "468998ad",
   "metadata": {},
   "outputs": [],
   "source": [
    "# Metrics extraction: accuracy and macro-average f1-score\n",
    "accuracy = {\n",
    "    \"Title-Only\": title_report[\"accuracy\"],\n",
    "    \"URL-Only\": url_report[\"accuracy\"],\n",
    "    \"All-Metadata\": combined_report[\"accuracy\"]\n",
    "}\n",
    "\n",
    "f1_macro = {\n",
    "    \"Title-Only\": title_report[\"macro avg\"][\"f1-score\"],\n",
    "    \"URL-Only\": url_report[\"macro avg\"][\"f1-score\"],\n",
    "    \"All-Metadata\": combined_report[\"macro avg\"][\"f1-score\"]\n",
    "}\n"
   ]
  },
  {
   "cell_type": "code",
   "execution_count": 9,
   "id": "21bb5dcc",
   "metadata": {},
   "outputs": [
    {
     "data": {
      "image/png": "[encoded data removed]",
      "text/plain": [
       "<Figure size 864x360 with 2 Axes>"
      ]
     },
     "metadata": {
      "needs_background": "light"
     },
     "output_type": "display_data"
    }
   ],
   "source": [
    "import matplotlib.pyplot as plt\n",
    "\n",
    "# Create subplots to compare Accuracy and F1 Score\n",
    "fig, ax = plt.subplots(1, 2, figsize=(12, 5))\n",
    "\n",
    "# Accuracy bar plot\n",
    "ax[0].bar(accuracy.keys(), accuracy.values(), color=['blue', 'green', 'orange'])\n",
    "ax[0].set_ylim(0, 1)\n",
    "ax[0].set_ylabel(\"Accuracy\")\n",
    "ax[0].set_title(\"Model Accuracy Comparison\")\n",
    "\n",
    "# F1 Score bar plot\n",
    "ax[1].bar(f1_macro.keys(), f1_macro.values(), color=['blue', 'green', 'orange'])\n",
    "ax[1].set_ylim(0, 1)\n",
    "ax[1].set_ylabel(\"F1 Score (Macro Average)\")\n",
    "ax[1].set_title(\"Model F1 Score Comparison\")\n",
    "\n",
    "plt.suptitle(\"Comparison of Model Performance Across Feature Sets\")\n",
    "plt.show()\n"
   ]
  },
  {
   "cell_type": "code",
   "execution_count": 11,
   "id": "bb47b548",
   "metadata": {},
   "outputs": [
    {
     "data": {
      "image/png": "[encoded data removed]",
      "text/plain": [
       "<Figure size 1080x288 with 6 Axes>"
      ]
     },
     "metadata": {
      "needs_background": "light"
     },
     "output_type": "display_data"
    }
   ],
   "source": [
    "from sklearn.metrics import confusion_matrix\n",
    "import seaborn as sns\n",
    "\n",
    "cm_title = confusion_matrix(y_test, y_pred_title)\n",
    "cm_url = confusion_matrix(y_test, y_pred_url)\n",
    "cm_combined = confusion_matrix(y_test_all, y_pred_combined)\n",
    "\n",
    "fig, axes = plt.subplots(1, 3, figsize=(15, 4))\n",
    "for ax, cm, title in zip(axes, [cm_title, cm_url, cm_combined],\n",
    "                           [\"Title-Only\", \"URL-Only\", \"All-Metadata\"]):\n",
    "    sns.heatmap(cm, annot=True, fmt=\"d\", ax=ax, cmap=\"Blues\")\n",
    "    ax.set_title(f\"Confusion Matrix: {title}\")\n",
    "    ax.set_xlabel(\"Predicted\")\n",
    "    ax.set_ylabel(\"Actual\")\n",
    "plt.tight_layout()\n",
    "plt.show()\n"
   ]
  },
  {
   "cell_type": "code",
   "execution_count": null,
   "id": "c3813379",
   "metadata": {},
   "outputs": [],
   "source": []
  }
 ],
 "metadata": {
  "kernelspec": {
   "display_name": "Python 3 (ipykernel)",
   "language": "python",
   "name": "python3"
  },
  "language_info": {
   "codemirror_mode": {
    "name": "ipython",
    "version": 3
   },
   "file_extension": ".py",
   "mimetype": "text/x-python",
   "name": "python",
   "nbconvert_exporter": "python",
   "pygments_lexer": "ipython3",
   "version": "3.9.7"
  }
 },
 "nbformat": 4,
 "nbformat_minor": 5
}
