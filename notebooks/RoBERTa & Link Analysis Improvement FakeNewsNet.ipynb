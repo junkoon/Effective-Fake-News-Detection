{
 "cells": [
  {
   "cell_type": "code",
   "execution_count": 1,
   "id": "876155a7",
   "metadata": {},
   "outputs": [],
   "source": [
    "import pandas as pd\n",
    "import numpy as np\n",
    "from sklearn.feature_extraction.text import CountVectorizer\n",
    "from imblearn.over_sampling import SMOTE\n",
    "from sklearn.preprocessing import StandardScaler\n",
    "from sklearn.model_selection import train_test_split\n",
    "from torch.utils.data import Dataset, DataLoader\n",
    "import torch\n",
    "from transformers import RobertaModel, RobertaTokenizer\n",
    "import tldextract\n",
    "from sklearn.metrics import accuracy_score, classification_report, confusion_matrix, ConfusionMatrixDisplay\n",
    "import torch.nn as nn\n",
    "from torch.optim import AdamW\n",
    "from transformers import get_scheduler\n",
    "from tqdm import tqdm\n"
   ]
  },
  {
   "cell_type": "code",
   "execution_count": 3,
   "id": "d09e2004",
   "metadata": {},
   "outputs": [],
   "source": [
    "# Step 1: Load and Prepare Data\n",
    "fake_news = pd.read_csv('data/fake.csv')  # Replace with the correct path\n",
    "real_news = pd.read_csv('data/real.csv')  # Replace with the correct path\n",
    "\n",
    "fake_news = fake_news.drop(columns=['id'], errors='ignore')\n",
    "real_news = real_news.drop(columns=['id'], errors='ignore')\n",
    "fake_news['labels'] = 1\n",
    "real_news['labels'] = 0\n",
    "\n",
    "data = pd.concat([fake_news[['title', 'labels', 'news_url']], real_news[['title', 'labels', 'news_url']]], ignore_index=True)\n",
    "data.dropna(subset=['title'], inplace=True)\n",
    "\n",
    "# Step 2: Refined Data Augmentation\n",
    "def augment_title(title):\n",
    "    synonyms = {'fake': 'false', 'news': 'story'}\n",
    "    words = title.split()\n",
    "    return ' '.join([synonyms.get(w.lower(), w) for w in words])\n",
    "\n",
    "data['title'] = data['title'].apply(augment_title)"
   ]
  },
  {
   "cell_type": "code",
   "execution_count": 4,
   "id": "8ea9ad1c",
   "metadata": {},
   "outputs": [],
   "source": [
    "# Step 3: Extract URL features\n",
    "def extract_url_features(url):\n",
    "    if isinstance(url, float):\n",
    "        url = str(url)\n",
    "    ext = tldextract.extract(url)\n",
    "    return {\n",
    "        'domain': ext.domain,\n",
    "        'subdomain': ext.subdomain,\n",
    "        'url_length': len(url),\n",
    "        'has_query': 1 if '?' in url else 0,\n",
    "        'has_hyphens': 1 if '-' in url else 0,\n",
    "        'has_numbers': 1 if any(c.isdigit() for c in url) else 0,\n",
    "    }\n",
    "\n",
    "url_features = data['news_url'].apply(extract_url_features)\n",
    "url_features_df = pd.DataFrame(url_features.tolist())\n",
    "\n",
    "# Encode and normalize URL features\n",
    "url_features_encoded = pd.get_dummies(url_features_df, columns=['domain', 'subdomain'])\n",
    "scaler = StandardScaler()\n",
    "url_features_encoded = pd.DataFrame(scaler.fit_transform(url_features_encoded), columns=url_features_encoded.columns)"
   ]
  },
  {
   "cell_type": "code",
   "execution_count": 5,
   "id": "c963ebf4",
   "metadata": {},
   "outputs": [
    {
     "name": "stderr",
     "output_type": "stream",
     "text": [
      "C:\\Users\\jun_k\\anaconda3\\lib\\site-packages\\sklearn\\base.py:474: FutureWarning: `BaseEstimator._validate_data` is deprecated in 1.6 and will be removed in 1.7. Use `sklearn.utils.validation.validate_data` instead. This function becomes public and is part of the scikit-learn developer API.\n",
      "  warnings.warn(\n",
      "C:\\Users\\jun_k\\anaconda3\\lib\\site-packages\\sklearn\\utils\\_tags.py:354: FutureWarning: The SMOTE or classes from which it inherits use `_get_tags` and `_more_tags`. Please define the `__sklearn_tags__` method, or inherit from `sklearn.base.BaseEstimator` and/or other appropriate mixins such as `sklearn.base.TransformerMixin`, `sklearn.base.ClassifierMixin`, `sklearn.base.RegressorMixin`, and `sklearn.base.OutlierMixin`. From scikit-learn 1.7, not defining `__sklearn_tags__` will raise an error.\n",
      "  warnings.warn(\n"
     ]
    }
   ],
   "source": [
    "# Step 4: Vectorize Titles\n",
    "vectorizer = CountVectorizer(max_features=5000)  # Limit features to avoid memory issues\n",
    "title_features_vectorized = vectorizer.fit_transform(data['title']).toarray()\n",
    "\n",
    "# Step 5: Align Data\n",
    "min_length = min(len(title_features_vectorized), len(url_features_encoded))\n",
    "title_features_vectorized = title_features_vectorized[:min_length]\n",
    "url_features_encoded = url_features_encoded.iloc[:min_length]\n",
    "data = data.iloc[:min_length]\n",
    "\n",
    "# Step 6: Combine Features for SMOTE\n",
    "combined_features = np.hstack([title_features_vectorized, url_features_encoded])\n",
    "\n",
    "# Apply SMOTE\n",
    "smote = SMOTE(random_state=42)\n",
    "combined_features_resampled, labels_resampled = smote.fit_resample(combined_features, data['labels'])\n",
    "\n",
    "# Step 7: Split Combined Features Back\n",
    "title_features_resampled = combined_features_resampled[:, :title_features_vectorized.shape[1]]\n",
    "url_features_resampled = combined_features_resampled[:, title_features_vectorized.shape[1]:]\n",
    "\n",
    "# Convert resampled title features back to text\n",
    "title_features_resampled = [\n",
    "    \" \".join(vectorizer.inverse_transform(title_row.reshape(1, -1))[0]) for title_row in title_features_resampled\n",
    "]\n"
   ]
  },
  {
   "cell_type": "code",
   "execution_count": 6,
   "id": "21eee3e4",
   "metadata": {},
   "outputs": [
    {
     "name": "stdout",
     "output_type": "stream",
     "text": [
      "Data preparation complete.\n"
     ]
    }
   ],
   "source": [
    "# Tokenizer initialization\n",
    "tokenizer = RobertaTokenizer.from_pretrained('roberta-base')\n",
    "\n",
    "# Step 8: Split Data into Train/Test Sets\n",
    "train_texts, test_texts, train_labels, test_labels, train_urls, test_urls = train_test_split(\n",
    "    title_features_resampled, labels_resampled, url_features_resampled, test_size=0.2, random_state=42\n",
    ")\n",
    "print(\"Data preparation complete.\")\n",
    "\n",
    "# Tokenize the train and test texts\n",
    "train_encodings = tokenizer(train_texts, truncation=True, padding=True, max_length=512)\n",
    "test_encodings = tokenizer(test_texts, truncation=True, padding=True, max_length=512)\n",
    "\n",
    "# Convert to torch tensors\n",
    "train_encodings = {key: torch.tensor(val) for key, val in train_encodings.items()}\n",
    "test_encodings = {key: torch.tensor(val) for key, val in test_encodings.items()}\n",
    "\n",
    "class CombinedDataset(Dataset):\n",
    "    def __init__(self, encodings, labels, url_features):\n",
    "        self.encodings = encodings\n",
    "        self.labels = labels\n",
    "        self.url_features = torch.tensor(url_features, dtype=torch.float)\n",
    "\n",
    "    def __len__(self):\n",
    "        return len(self.labels)\n",
    "\n",
    "    def __getitem__(self, idx):\n",
    "        item = {key: val[idx] for key, val in self.encodings.items()}\n",
    "        item['labels'] = torch.tensor(self.labels.iloc[idx], dtype=torch.long)\n",
    "        item['url_features'] = self.url_features[idx]\n",
    "        return item\n",
    "\n",
    "# Create datasets\n",
    "train_dataset = CombinedDataset(train_encodings, train_labels, train_urls)\n",
    "test_dataset = CombinedDataset(test_encodings, test_labels, test_urls)\n",
    "\n",
    "train_dataloader = DataLoader(train_dataset, batch_size=16, shuffle=True)\n",
    "eval_dataloader = DataLoader(test_dataset, batch_size=16)\n"
   ]
  },
  {
   "cell_type": "code",
   "execution_count": 7,
   "id": "13deca3f",
   "metadata": {},
   "outputs": [
    {
     "name": "stderr",
     "output_type": "stream",
     "text": [
      "Some weights of RobertaModel were not initialized from the model checkpoint at roberta-base and are newly initialized: ['roberta.pooler.dense.bias', 'roberta.pooler.dense.weight']\n",
      "You should probably TRAIN this model on a down-stream task to be able to use it for predictions and inference.\n"
     ]
    }
   ],
   "source": [
    "# Model with enhanced URL features\n",
    "class RobertaWithEnhancedURLClassifier(nn.Module):\n",
    "    def __init__(self, roberta_model_name, url_feature_dim):\n",
    "        super(RobertaWithEnhancedURLClassifier, self).__init__()\n",
    "        self.roberta = RobertaModel.from_pretrained(roberta_model_name)\n",
    "        self.url_transform = nn.Sequential(\n",
    "            nn.Linear(url_feature_dim, 128),\n",
    "            nn.ReLU(),\n",
    "            nn.Linear(128, 64)\n",
    "        )\n",
    "        self.classifier = nn.Linear(self.roberta.config.hidden_size + 64, 2)\n",
    "\n",
    "    def forward(self, input_ids, attention_mask, url_features):\n",
    "        roberta_output = self.roberta(input_ids=input_ids, attention_mask=attention_mask).pooler_output\n",
    "        url_transformed = self.url_transform(url_features)\n",
    "        combined_input = torch.cat((roberta_output, url_transformed), dim=1)\n",
    "        logits = self.classifier(combined_input)\n",
    "        return logits\n",
    "\n",
    "url_feature_dim = train_urls.shape[1]\n",
    "model = RobertaWithEnhancedURLClassifier('roberta-base', url_feature_dim)"
   ]
  },
  {
   "cell_type": "code",
   "execution_count": 8,
   "id": "c534010c",
   "metadata": {},
   "outputs": [],
   "source": [
    "# Model training function\n",
    "def train_model(model, train_dataloader, eval_dataloader, num_epochs, device):\n",
    "    optimizer = AdamW(model.parameters(), lr=1e-5)\n",
    "    num_training_steps = num_epochs * len(train_dataloader)\n",
    "    lr_scheduler = get_scheduler(\"linear\", optimizer=optimizer, num_warmup_steps=0, num_training_steps=num_training_steps)\n",
    "\n",
    "    model.to(device)\n",
    "    progress_bar = tqdm(range(num_training_steps))\n",
    "\n",
    "    for epoch in range(num_epochs):\n",
    "        model.train()\n",
    "        for batch in train_dataloader:\n",
    "            batch = {k: v.to(device) for k, v in batch.items()}\n",
    "            outputs = model(\n",
    "                input_ids=batch[\"input_ids\"],\n",
    "                attention_mask=batch[\"attention_mask\"],\n",
    "                url_features=batch[\"url_features\"]\n",
    "            )\n",
    "            logits = outputs\n",
    "            loss_fct = nn.CrossEntropyLoss(weight=torch.tensor([1.0, 1.5], device=device))\n",
    "            loss = loss_fct(logits, batch[\"labels\"])\n",
    "\n",
    "            loss.backward()\n",
    "            optimizer.step()\n",
    "            lr_scheduler.step()\n",
    "            optimizer.zero_grad()\n",
    "            progress_bar.update(1)\n",
    "\n",
    "        model.eval()\n",
    "        eval_loss = 0\n",
    "        for batch in eval_dataloader:\n",
    "            batch = {k: v.to(device) for k, v in batch.items()}\n",
    "            with torch.no_grad():\n",
    "                outputs = model(\n",
    "                    input_ids=batch[\"input_ids\"],\n",
    "                    attention_mask=batch[\"attention_mask\"],\n",
    "                    url_features=batch[\"url_features\"]\n",
    "                )\n",
    "                logits = outputs\n",
    "                loss = loss_fct(logits, batch[\"labels\"])\n",
    "                eval_loss += loss.item()\n",
    "        print(f\"Epoch {epoch + 1}/{num_epochs}, Evaluation Loss: {eval_loss / len(eval_dataloader)}\")\n",
    "    return model"
   ]
  },
  {
   "cell_type": "code",
   "execution_count": 9,
   "id": "8f338aea",
   "metadata": {},
   "outputs": [
    {
     "name": "stderr",
     "output_type": "stream",
     "text": [
      " 20%|██████████████▊                                                           | 1745/8725 [2:36:09<7:54:03,  4.08s/it]"
     ]
    },
    {
     "name": "stdout",
     "output_type": "stream",
     "text": [
      "Epoch 1/5, Evaluation Loss: 0.3266925105582113\n"
     ]
    },
    {
     "name": "stderr",
     "output_type": "stream",
     "text": [
      " 40%|█████████████████████████████▌                                            | 3490/8725 [5:20:54<5:41:48,  3.92s/it]"
     ]
    },
    {
     "name": "stdout",
     "output_type": "stream",
     "text": [
      "Epoch 2/5, Evaluation Loss: 0.33431279974684835\n"
     ]
    },
    {
     "name": "stderr",
     "output_type": "stream",
     "text": [
      " 60%|████████████████████████████████████████████▍                             | 5235/8725 [8:06:11<3:48:25,  3.93s/it]"
     ]
    },
    {
     "name": "stdout",
     "output_type": "stream",
     "text": [
      "Epoch 3/5, Evaluation Loss: 0.3136727886756102\n"
     ]
    },
    {
     "name": "stderr",
     "output_type": "stream",
     "text": [
      " 80%|██████████████████████████████████████████████████████████▍              | 6980/8725 [10:52:08<2:00:08,  4.13s/it]"
     ]
    },
    {
     "name": "stdout",
     "output_type": "stream",
     "text": [
      "Epoch 4/5, Evaluation Loss: 0.2904902120596075\n"
     ]
    },
    {
     "name": "stderr",
     "output_type": "stream",
     "text": [
      "100%|███████████████████████████████████████████████████████████████████████████| 8725/8725 [13:48:25<00:00,  5.70s/it]"
     ]
    },
    {
     "name": "stdout",
     "output_type": "stream",
     "text": [
      "Epoch 5/5, Evaluation Loss: 0.3022398519419236\n"
     ]
    },
    {
     "name": "stderr",
     "output_type": "stream",
     "text": [
      "\n"
     ]
    },
    {
     "name": "stdout",
     "output_type": "stream",
     "text": [
      "Model saved as fake_news_model_roberta_fakenewsnet.pth\n"
     ]
    }
   ],
   "source": [
    "# Train Model\n",
    "device = torch.device(\"cuda\") if torch.cuda.is_available() else torch.device(\"cpu\")\n",
    "num_epochs = 5\n",
    "model = train_model(model, train_dataloader, eval_dataloader, num_epochs, device)\n",
    "\n",
    "# Save the trained model\n",
    "torch.save({\n",
    "    'model_state_dict': model.state_dict(),\n",
    "}, \"fake_news_model_roberta_fakenewsnet.pth\")\n",
    "print(\"Model saved as fake_news_model_roberta_fakenewsnet.pth\")"
   ]
  },
  {
   "cell_type": "code",
   "execution_count": 10,
   "id": "174c4a58",
   "metadata": {},
   "outputs": [
    {
     "data": {
      "image/png": "[encoded data removed]",
      "text/plain": [
       "<Figure size 432x288 with 2 Axes>"
      ]
     },
     "metadata": {
      "needs_background": "light"
     },
     "output_type": "display_data"
    },
    {
     "name": "stdout",
     "output_type": "stream",
     "text": [
      "Accuracy: 0.8823276479862405\n",
      "              precision    recall  f1-score   support\n",
      "\n",
      "        Real       0.90      0.86      0.88      3471\n",
      "        Fake       0.87      0.90      0.88      3506\n",
      "\n",
      "    accuracy                           0.88      6977\n",
      "   macro avg       0.88      0.88      0.88      6977\n",
      "weighted avg       0.88      0.88      0.88      6977\n",
      "\n"
     ]
    }
   ],
   "source": [
    "import matplotlib.pyplot as plt\n",
    "from sklearn.metrics import confusion_matrix, ConfusionMatrixDisplay, accuracy_score, classification_report\n",
    "import numpy as np\n",
    "\n",
    "# Evaluation\n",
    "model.eval()\n",
    "predictions = []\n",
    "true_labels = []\n",
    "\n",
    "for batch in eval_dataloader:\n",
    "    batch = {k: v.to(device) for k, v in batch.items()}\n",
    "    with torch.no_grad():\n",
    "        outputs = model(\n",
    "            input_ids=batch[\"input_ids\"],\n",
    "            attention_mask=batch[\"attention_mask\"],\n",
    "            url_features=batch[\"url_features\"]\n",
    "        )\n",
    "        preds = torch.argmax(outputs, dim=1)\n",
    "        predictions.extend(preds.cpu().numpy())\n",
    "        true_labels.extend(batch[\"labels\"].cpu().numpy())\n",
    "\n",
    "# Save predictions and true labels (optional)\n",
    "np.save(\"predictions_roberta_fakenewsnet.npy\", predictions)\n",
    "np.save(\"true_labels_roberta_fakenewsnet.npy\", true_labels)\n",
    "\n",
    "\n",
    "# Evaluation Metrics\n",
    "conf_matrix = confusion_matrix(true_labels, predictions, labels=[0, 1])\n",
    "disp = ConfusionMatrixDisplay(conf_matrix, display_labels=['Real', 'Fake'])\n",
    "disp.plot(cmap=plt.cm.Blues)\n",
    "plt.show()\n",
    "\n",
    "print(\"Accuracy:\", accuracy_score(true_labels, predictions))\n",
    "print(classification_report(true_labels, predictions, target_names=['Real', 'Fake']))\n"
   ]
  },
  {
   "cell_type": "code",
   "execution_count": null,
   "id": "0aaf6ec3",
   "metadata": {},
   "outputs": [],
   "source": []
  }
 ],
 "metadata": {
  "kernelspec": {
   "display_name": "Python 3 (ipykernel)",
   "language": "python",
   "name": "python3"
  },
  "language_info": {
   "codemirror_mode": {
    "name": "ipython",
    "version": 3
   },
   "file_extension": ".py",
   "mimetype": "text/x-python",
   "name": "python",
   "nbconvert_exporter": "python",
   "pygments_lexer": "ipython3",
   "version": "3.9.7"
  }
 },
 "nbformat": 4,
 "nbformat_minor": 5
}
