{
 "cells": [
  {
   "cell_type": "code",
   "execution_count": 2,
   "id": "f31abbe5-1e40-402d-b5e8-c7bd4d714dc8",
   "metadata": {},
   "outputs": [
    {
     "name": "stderr",
     "output_type": "stream",
     "text": [
      "C:\\Users\\Koon\\anaconda3\\envs\\GPU\\lib\\site-packages\\tqdm\\auto.py:21: TqdmWarning: IProgress not found. Please update jupyter and ipywidgets. See https://ipywidgets.readthedocs.io/en/stable/user_install.html\n",
      "  from .autonotebook import tqdm as notebook_tqdm\n"
     ]
    }
   ],
   "source": [
    "import os\n",
    "import torch\n",
    "import pandas as pd\n",
    "import numpy as np\n",
    "import tldextract\n",
    "from torch import nn\n",
    "from torch.utils.data import Dataset, DataLoader\n",
    "from tqdm import tqdm\n",
    "from sklearn.feature_extraction.text import TfidfVectorizer\n",
    "from sklearn.preprocessing import StandardScaler\n",
    "from sklearn.model_selection import train_test_split\n",
    "from imblearn.over_sampling import SMOTE\n",
    "from sklearn.metrics import accuracy_score, classification_report\n",
    "from transformers import RobertaTokenizer, RobertaModel"
   ]
  },
  {
   "cell_type": "code",
   "execution_count": 3,
   "id": "282aef4f-15ab-412d-a3b6-4cffabc14d4a",
   "metadata": {},
   "outputs": [],
   "source": [
    "# =============================================================================\n",
    "# Directory Setup\n",
    "# =============================================================================\n",
    "SAVE_DIR = \"saved_model_fakenewsnet_roberta_metadata\"\n",
    "os.makedirs(SAVE_DIR, exist_ok=True)\n",
    "\n",
    "# =============================================================================\n",
    "# Step 1: Load and Prepare Data (using all meta data)\n",
    "# =============================================================================\n",
    "fake_news = pd.read_csv('data/fake_with_metadata.csv')\n",
    "real_news = pd.read_csv('data/real_with_metadata.csv')\n",
    "\n",
    "# Drop unnecessary columns if they exist\n",
    "fake_news.drop(columns=['id'], errors='ignore', inplace=True)\n",
    "real_news.drop(columns=['id'], errors='ignore', inplace=True)\n",
    "\n",
    "# Assign labels: 1 for Fake and 0 for Real\n",
    "fake_news['labels'] = 1\n",
    "real_news['labels'] = 0\n",
    "\n",
    "# -----------------------------------------------------\n",
    "# Combine the data based on meta columns\n",
    "# -----------------------------------------------------\n",
    "meta_cols = ['title', 'meta_title', 'meta_description', 'news_url']\n",
    "fake_selected = fake_news[meta_cols + ['labels']]\n",
    "real_selected = real_news[meta_cols + ['labels']]\n",
    "data = pd.concat([fake_selected, real_selected], ignore_index=True)\n",
    "\n",
    "# Drop records missing main text ('title') and fill missing meta fields\n",
    "data.dropna(subset=['title'], inplace=True)\n",
    "for col in ['meta_title', 'meta_description', 'news_url']:\n",
    "    data[col] = data[col].fillna(\"\")\n",
    "\n",
    "# =============================================================================\n",
    "# Step 2: Combine Meta Data into a Single Field\n",
    "# =============================================================================\n",
    "def combine_metadata(row):\n",
    "    texts = [str(row.get(col, \"\")) for col in ['title', 'meta_title', 'meta_description']]\n",
    "    return \" \".join(texts).strip()\n",
    "\n",
    "data['combined_text'] = data.apply(combine_metadata, axis=1)\n",
    "\n",
    "# =============================================================================\n",
    "# Step 3: Extract URL Features\n",
    "# =============================================================================\n",
    "def extract_url_features(url):\n",
    "    if pd.isna(url) or not isinstance(url, str):\n",
    "        return {'url_length': 0, 'has_query': 0, 'has_hyphens': 0, 'has_numbers': 0}\n",
    "    return {\n",
    "        'url_length': len(url),\n",
    "        'has_query': 1 if '?' in url else 0,\n",
    "        'has_hyphens': 1 if '-' in url else 0,\n",
    "        'has_numbers': 1 if any(c.isdigit() for c in url) else 0,\n",
    "    }\n",
    "\n",
    "url_features = data['news_url'].apply(extract_url_features)\n",
    "url_features_df = pd.DataFrame(url_features.tolist())"
   ]
  },
  {
   "cell_type": "code",
   "execution_count": 4,
   "id": "a996e9e8-6e29-4b2f-95ec-711d444ae610",
   "metadata": {},
   "outputs": [
    {
     "name": "stdout",
     "output_type": "stream",
     "text": [
      "Saved scaler and vectorizer\n"
     ]
    }
   ],
   "source": [
    "# =============================================================================\n",
    "# Step 4: Vectorize Combined Meta Data Text Using TF-IDF\n",
    "# =============================================================================\n",
    "vectorizer = TfidfVectorizer(max_features=5000)\n",
    "meta_text_features_vectorized = vectorizer.fit_transform(data['combined_text']).toarray()\n",
    "\n",
    "# =============================================================================\n",
    "# Step 5: Normalize URL Features\n",
    "# =============================================================================\n",
    "scaler = StandardScaler()\n",
    "url_features_scaled = pd.DataFrame(scaler.fit_transform(url_features_df), \n",
    "                                   columns=url_features_df.columns)\n",
    "\n",
    "# Save the scaler and vectorizer for future use\n",
    "torch.save(scaler, os.path.join(SAVE_DIR, \"scaler.pth\"))\n",
    "torch.save(vectorizer, os.path.join(SAVE_DIR, \"vectorizer.pth\"))\n",
    "print(\"Saved scaler and vectorizer\")"
   ]
  },
  {
   "cell_type": "code",
   "execution_count": 5,
   "id": "ec399b5b-db57-424e-a2f3-863789aaa5a8",
   "metadata": {},
   "outputs": [
    {
     "name": "stderr",
     "output_type": "stream",
     "text": [
      "C:\\Users\\Koon\\anaconda3\\envs\\GPU\\lib\\site-packages\\sklearn\\base.py:474: FutureWarning: `BaseEstimator._validate_data` is deprecated in 1.6 and will be removed in 1.7. Use `sklearn.utils.validation.validate_data` instead. This function becomes public and is part of the scikit-learn developer API.\n",
      "  warnings.warn(\n"
     ]
    }
   ],
   "source": [
    "# =============================================================================\n",
    "# Step 6: Align Data Dimensions\n",
    "# =============================================================================\n",
    "min_length = min(len(meta_text_features_vectorized), len(url_features_scaled))\n",
    "meta_text_features_vectorized = meta_text_features_vectorized[:min_length]\n",
    "url_features_scaled = url_features_scaled.iloc[:min_length]\n",
    "data = data.iloc[:min_length]\n",
    "\n",
    "# =============================================================================\n",
    "# Step 7: Apply SMOTE to Handle Class Imbalance\n",
    "# =============================================================================\n",
    "combined_features = np.hstack([meta_text_features_vectorized, url_features_scaled])\n",
    "smote = SMOTE(random_state=42)\n",
    "X_resampled, y_resampled = smote.fit_resample(combined_features, data['labels'])"
   ]
  },
  {
   "cell_type": "code",
   "execution_count": 6,
   "id": "5b4ae6ae-d267-4a3c-b01f-b728f925e006",
   "metadata": {},
   "outputs": [],
   "source": [
    "# =============================================================================\n",
    "# Step 8: Split Data into Training & Testing Sets\n",
    "# =============================================================================\n",
    "num_text_features = meta_text_features_vectorized.shape[1]\n",
    "train_texts, test_texts, train_labels, test_labels, train_urls, test_urls = train_test_split(\n",
    "    X_resampled[:, :num_text_features],\n",
    "    y_resampled,\n",
    "    X_resampled[:, num_text_features:],\n",
    "    test_size=0.2,\n",
    "    random_state=42\n",
    ")\n",
    "\n",
    "# Convert labels and URL features to tensors\n",
    "train_labels = torch.tensor(np.array(train_labels), dtype=torch.long)\n",
    "test_labels = torch.tensor(np.array(test_labels), dtype=torch.long)\n",
    "train_urls = torch.tensor(np.array(train_urls), dtype=torch.float)\n",
    "test_urls = torch.tensor(np.array(test_urls), dtype=torch.float)"
   ]
  },
  {
   "cell_type": "code",
   "execution_count": 7,
   "id": "6305440b-5ea8-4b5d-a1fd-3ac2663f0ab8",
   "metadata": {},
   "outputs": [
    {
     "name": "stdout",
     "output_type": "stream",
     "text": [
      "Saved tokenizer\n"
     ]
    }
   ],
   "source": [
    "# =============================================================================\n",
    "# Step 9: Tokenize Text for RoBERTa\n",
    "# =============================================================================\n",
    "# Since SMOTE was applied on TF-IDF features, we convert these back into text.\n",
    "train_text_strings = [\n",
    "    \" \".join(vectorizer.inverse_transform(text_row.reshape(1, -1))[0])\n",
    "    for text_row in train_texts\n",
    "]\n",
    "test_text_strings = [\n",
    "    \" \".join(vectorizer.inverse_transform(text_row.reshape(1, -1))[0])\n",
    "    for text_row in test_texts\n",
    "]\n",
    "\n",
    "tokenizer = RobertaTokenizer.from_pretrained('roberta-base')\n",
    "train_encodings = tokenizer(\n",
    "    train_text_strings,\n",
    "    truncation=True,\n",
    "    padding=True,\n",
    "    max_length=512,\n",
    "    return_tensors=\"pt\"\n",
    ")\n",
    "test_encodings = tokenizer(\n",
    "    test_text_strings,\n",
    "    truncation=True,\n",
    "    padding=True,\n",
    "    max_length=512,\n",
    "    return_tensors=\"pt\"\n",
    ")\n",
    "\n",
    "# Save the tokenizer\n",
    "tokenizer.save_pretrained(SAVE_DIR)\n",
    "print(\"Saved tokenizer\")"
   ]
  },
  {
   "cell_type": "code",
   "execution_count": 8,
   "id": "f4bc522e-9786-4592-a094-6378b0b6bf1a",
   "metadata": {},
   "outputs": [],
   "source": [
    "# =============================================================================\n",
    "# Step 10: Define Custom Dataset Class for Combined Features\n",
    "# =============================================================================\n",
    "class CombinedDataset(Dataset):\n",
    "    def __init__(self, encodings, labels, url_features):\n",
    "        self.encodings = encodings\n",
    "        self.labels = labels\n",
    "        self.url_features = url_features\n",
    "\n",
    "    def __len__(self):\n",
    "        return len(self.labels)\n",
    "\n",
    "    def __getitem__(self, idx):\n",
    "        item = {key: val[idx] for key, val in self.encodings.items()}\n",
    "        item['labels'] = self.labels[idx]\n",
    "        item['url_features'] = self.url_features[idx]\n",
    "        return item\n",
    "\n",
    "# Create datasets and dataloaders\n",
    "train_dataset = CombinedDataset(train_encodings, train_labels, train_urls)\n",
    "test_dataset = CombinedDataset(test_encodings, test_labels, test_urls)\n",
    "\n",
    "train_dataloader = DataLoader(train_dataset, batch_size=16, shuffle=True)\n",
    "eval_dataloader = DataLoader(test_dataset, batch_size=16)"
   ]
  },
  {
   "cell_type": "code",
   "execution_count": 9,
   "id": "215652e0-3729-4828-ad04-ba7687aeeb50",
   "metadata": {},
   "outputs": [],
   "source": [
    "# =============================================================================\n",
    "# Step 11: Define the RoBERTaWithFeatures Model (Including URL Features)\n",
    "# =============================================================================\n",
    "class RoBERTaWithFeatures(nn.Module):\n",
    "    def __init__(self, num_labels=2, url_feature_dim=4):\n",
    "        super(RoBERTaWithFeatures, self).__init__()\n",
    "        # Load the RoBERTa encoder\n",
    "        self.roberta = RobertaModel.from_pretrained(\"roberta-base\")\n",
    "        hidden_size = self.roberta.config.hidden_size  # typically 768 for roberta-base\n",
    "        # Fully-connected layer for URL features\n",
    "        self.url_fc = nn.Linear(url_feature_dim, 32)\n",
    "        self.dropout = nn.Dropout(0.3)\n",
    "        # Final classifier head: concatenated features from text and URL (hidden_size + 32)\n",
    "        self.fc = nn.Linear(hidden_size + 32, num_labels)\n",
    "\n",
    "    def forward(self, input_ids, attention_mask, url_features):\n",
    "        outputs = self.roberta(input_ids=input_ids, attention_mask=attention_mask)\n",
    "        # Use the hidden state of the first token as sentence representation\n",
    "        pooled_output = outputs[0][:, 0]\n",
    "        url_emb = torch.relu(self.url_fc(url_features))\n",
    "        combined = torch.cat((pooled_output, url_emb), dim=1)\n",
    "        combined = self.dropout(combined)\n",
    "        logits = self.fc(combined)\n",
    "        return logits"
   ]
  },
  {
   "cell_type": "code",
   "execution_count": 10,
   "id": "d6588c74-5bd7-40c6-b9e9-a63234309f6c",
   "metadata": {},
   "outputs": [
    {
     "name": "stdout",
     "output_type": "stream",
     "text": [
      "Using device: cuda\n"
     ]
    },
    {
     "name": "stderr",
     "output_type": "stream",
     "text": [
      "Some weights of RobertaModel were not initialized from the model checkpoint at roberta-base and are newly initialized: ['roberta.pooler.dense.bias', 'roberta.pooler.dense.weight']\n",
      "You should probably TRAIN this model on a down-stream task to be able to use it for predictions and inference.\n"
     ]
    },
    {
     "name": "stdout",
     "output_type": "stream",
     "text": [
      "Starting training...\n"
     ]
    },
    {
     "name": "stderr",
     "output_type": "stream",
     "text": [
      "Epoch 1/5: 100%|██████████| 1745/1745 [04:52<00:00,  5.97it/s, loss=1.23] \n",
      "Epoch 2/5: 100%|██████████| 1745/1745 [04:51<00:00,  5.98it/s, loss=0.202] \n",
      "Epoch 3/5: 100%|██████████| 1745/1745 [04:51<00:00,  5.98it/s, loss=0.0684]\n",
      "Epoch 4/5: 100%|██████████| 1745/1745 [04:51<00:00,  5.99it/s, loss=0.00437]\n",
      "Epoch 5/5: 100%|██████████| 1745/1745 [04:51<00:00,  5.99it/s, loss=0.000131]\n"
     ]
    },
    {
     "name": "stdout",
     "output_type": "stream",
     "text": [
      "Training complete.\n",
      "Saved model\n"
     ]
    }
   ],
   "source": [
    "# =============================================================================\n",
    "# Step 12: Train the Model\n",
    "# =============================================================================\n",
    "# Check GPU availability\n",
    "device = torch.device(\"cuda\" if torch.cuda.is_available() else \"cpu\")\n",
    "print(\"Using device:\", device)\n",
    "\n",
    "model = RoBERTaWithFeatures(num_labels=2, url_feature_dim=4).to(device)\n",
    "optimizer = torch.optim.AdamW(model.parameters(), lr=2e-5, weight_decay=0.01)\n",
    "loss_fct = nn.CrossEntropyLoss()\n",
    "num_epochs = 5\n",
    "\n",
    "print(\"Starting training...\")\n",
    "for epoch in range(num_epochs):\n",
    "    model.train()\n",
    "    loop = tqdm(train_dataloader, leave=True, desc=f\"Epoch {epoch+1}/{num_epochs}\")\n",
    "    for batch in loop:\n",
    "        # Move all batch tensors to the GPU (or CPU)\n",
    "        batch = {k: v.to(device) for k, v in batch.items()}\n",
    "        logits = model(batch['input_ids'], batch['attention_mask'], batch['url_features'])\n",
    "        loss = loss_fct(logits, batch['labels'])\n",
    "        optimizer.zero_grad()\n",
    "        loss.backward()\n",
    "        optimizer.step()\n",
    "        \n",
    "        loop.set_postfix(loss=loss.item())\n",
    "print(\"Training complete.\")\n",
    "\n",
    "# Save the trained model\n",
    "model_save_path = os.path.join(SAVE_DIR, \"roberta_fakenewsnet_model.pth\")\n",
    "torch.save(model.state_dict(), model_save_path)\n",
    "print(\"Saved model\")"
   ]
  },
  {
   "cell_type": "code",
   "execution_count": 11,
   "id": "d07e4de5-0e19-4802-b368-661215a0730a",
   "metadata": {},
   "outputs": [
    {
     "name": "stderr",
     "output_type": "stream",
     "text": [
      "Evaluating: 100%|██████████| 437/437 [00:13<00:00, 32.55it/s]"
     ]
    },
    {
     "name": "stdout",
     "output_type": "stream",
     "text": [
      "\n",
      "Evaluation results:\n",
      "Accuracy: 0.9002436577325498\n",
      "              precision    recall  f1-score   support\n",
      "\n",
      "        Real       0.94      0.85      0.89      3471\n",
      "        Fake       0.87      0.95      0.91      3506\n",
      "\n",
      "    accuracy                           0.90      6977\n",
      "   macro avg       0.90      0.90      0.90      6977\n",
      "weighted avg       0.90      0.90      0.90      6977\n",
      "\n"
     ]
    },
    {
     "name": "stderr",
     "output_type": "stream",
     "text": [
      "\n"
     ]
    }
   ],
   "source": [
    "# =============================================================================\n",
    "# Step 13: Evaluate the Model\n",
    "# =============================================================================\n",
    "model.eval()\n",
    "predictions, true_labels = [], []\n",
    "for batch in tqdm(eval_dataloader, desc=\"Evaluating\"):\n",
    "    # Move batch to device\n",
    "    batch = {k: v.to(device) for k, v in batch.items()}\n",
    "    with torch.no_grad():\n",
    "        logits = model(batch['input_ids'], batch['attention_mask'], batch['url_features'])\n",
    "    preds = torch.argmax(logits, dim=1)\n",
    "    predictions.extend(preds.cpu().numpy())\n",
    "    true_labels.extend(batch[\"labels\"].cpu().numpy())\n",
    "\n",
    "print(\"\\nEvaluation results:\")\n",
    "print(\"Accuracy:\", accuracy_score(true_labels, predictions))\n",
    "print(classification_report(true_labels, predictions, target_names=['Real', 'Fake']))"
   ]
  }
 ],
 "metadata": {
  "kernelspec": {
   "display_name": "Python 3 (ipykernel)",
   "language": "python",
   "name": "python3"
  },
  "language_info": {
   "codemirror_mode": {
    "name": "ipython",
    "version": 3
   },
   "file_extension": ".py",
   "mimetype": "text/x-python",
   "name": "python",
   "nbconvert_exporter": "python",
   "pygments_lexer": "ipython3",
   "version": "3.9.18"
  }
 },
 "nbformat": 4,
 "nbformat_minor": 5
}
