{
 "cells": [
  {
   "cell_type": "code",
   "execution_count": 12,
   "id": "f309e059",
   "metadata": {},
   "outputs": [],
   "source": [
    "import pandas as pd\n",
    "import numpy as np\n",
    "import torch\n",
    "import torch.nn as nn\n",
    "import tldextract\n",
    "import matplotlib.pyplot as plt\n",
    "\n",
    "from sklearn.feature_extraction.text import TfidfVectorizer\n",
    "from sklearn.preprocessing import StandardScaler\n",
    "from sklearn.model_selection import train_test_split\n",
    "from sklearn.metrics import accuracy_score, classification_report\n",
    "from imblearn.over_sampling import SMOTE\n",
    "\n",
    "from transformers import BertTokenizer, BertForSequenceClassification\n",
    "from torch.utils.data import Dataset, DataLoader\n",
    "from tqdm import tqdm"
   ]
  },
  {
   "cell_type": "code",
   "execution_count": 13,
   "id": "1f025df2",
   "metadata": {},
   "outputs": [
    {
     "name": "stderr",
     "output_type": "stream",
     "text": [
      "C:\\Users\\jun_k\\anaconda3\\lib\\site-packages\\pandas\\util\\_decorators.py:311: SettingWithCopyWarning: \n",
      "A value is trying to be set on a copy of a slice from a DataFrame\n",
      "\n",
      "See the caveats in the documentation: https://pandas.pydata.org/pandas-docs/stable/user_guide/indexing.html#returning-a-view-versus-a-copy\n",
      "  return func(*args, **kwargs)\n",
      "C:\\Users\\jun_k\\AppData\\Local\\Temp/ipykernel_15272/309526232.py:18: SettingWithCopyWarning: \n",
      "A value is trying to be set on a copy of a slice from a DataFrame.\n",
      "Try using .loc[row_indexer,col_indexer] = value instead\n",
      "\n",
      "See the caveats in the documentation: https://pandas.pydata.org/pandas-docs/stable/user_guide/indexing.html#returning-a-view-versus-a-copy\n",
      "  data['title'] = data['title'].astype(str)  # Ensure titles are strings\n"
     ]
    }
   ],
   "source": [
    "# Step 1: Load and Prepare Data\n",
    "news_data = pd.read_csv('data/news_articles.csv')  # Update with actual path\n",
    "\n",
    "# Drop unnecessary columns\n",
    "news_data = news_data.drop(columns=['author', 'published', 'text', 'language', 'main_img_url', 'type', \n",
    "                                    'title_without_stopwords', 'text_without_stopwords', 'hasImage'], errors='ignore')\n",
    "\n",
    "# Fix label inconsistencies\n",
    "news_data = news_data[news_data['label'].apply(lambda x: isinstance(x, str))]\n",
    "news_data['label'] = news_data['label'].replace('Realk', 'Real')  # Fix any typos\n",
    "\n",
    "# Convert labels: 1 for Fake, 0 for Real\n",
    "news_data['labels'] = news_data['label'].apply(lambda x: 1 if x.lower() == 'fake' else 0)\n",
    "\n",
    "# Keep only relevant columns\n",
    "data = news_data[['title', 'labels', 'site_url']]\n",
    "data.dropna(subset=['title'], inplace=True)\n",
    "data['title'] = data['title'].astype(str)  # Ensure titles are strings\n",
    "\n",
    "# Step 2: Extract URL Features\n",
    "def extract_url_features(url):\n",
    "    if pd.isna(url) or not isinstance(url, str):\n",
    "        return {'url_length': 0, 'has_query': 0, 'has_hyphens': 0, 'has_numbers': 0}\n",
    "    \n",
    "    ext = tldextract.extract(url)\n",
    "    return {\n",
    "        'url_length': len(url),\n",
    "        'has_query': 1 if '?' in url else 0,\n",
    "        'has_hyphens': 1 if '-' in url else 0,\n",
    "        'has_numbers': 1 if any(c.isdigit() for c in url) else 0,\n",
    "    }\n",
    "\n",
    "url_features = data['site_url'].apply(extract_url_features)\n",
    "url_features_df = pd.DataFrame(url_features.tolist())\n",
    "\n",
    "# Normalize URL features\n",
    "scaler = StandardScaler()\n",
    "url_features_scaled = pd.DataFrame(scaler.fit_transform(url_features_df), columns=url_features_df.columns)"
   ]
  },
  {
   "cell_type": "code",
   "execution_count": 14,
   "id": "a371e141",
   "metadata": {},
   "outputs": [
    {
     "name": "stderr",
     "output_type": "stream",
     "text": [
      "C:\\Users\\jun_k\\anaconda3\\lib\\site-packages\\sklearn\\base.py:474: FutureWarning: `BaseEstimator._validate_data` is deprecated in 1.6 and will be removed in 1.7. Use `sklearn.utils.validation.validate_data` instead. This function becomes public and is part of the scikit-learn developer API.\n",
      "  warnings.warn(\n",
      "C:\\Users\\jun_k\\anaconda3\\lib\\site-packages\\sklearn\\utils\\_tags.py:354: FutureWarning: The SMOTE or classes from which it inherits use `_get_tags` and `_more_tags`. Please define the `__sklearn_tags__` method, or inherit from `sklearn.base.BaseEstimator` and/or other appropriate mixins such as `sklearn.base.TransformerMixin`, `sklearn.base.ClassifierMixin`, `sklearn.base.RegressorMixin`, and `sklearn.base.OutlierMixin`. From scikit-learn 1.7, not defining `__sklearn_tags__` will raise an error.\n",
      "  warnings.warn(\n"
     ]
    }
   ],
   "source": [
    "# Step 3: Vectorize Titles using TF-IDF\n",
    "vectorizer = TfidfVectorizer(max_features=5000)\n",
    "title_features_vectorized = vectorizer.fit_transform(data['title']).toarray()\n",
    "\n",
    "# Step 4: Align Data\n",
    "min_length = min(len(title_features_vectorized), len(url_features_scaled))\n",
    "title_features_vectorized = title_features_vectorized[:min_length]\n",
    "url_features_scaled = url_features_scaled.iloc[:min_length]\n",
    "data = data.iloc[:min_length]\n",
    "\n",
    "# Step 5: Apply SMOTE\n",
    "combined_features = np.hstack([title_features_vectorized, url_features_scaled])\n",
    "smote = SMOTE(random_state=42)\n",
    "X_resampled, y_resampled = smote.fit_resample(combined_features, data['labels'])\n",
    "\n",
    "# Step 6: Split Data into Training & Testing\n",
    "train_texts, test_texts, train_labels, test_labels, train_urls, test_urls = train_test_split(\n",
    "    X_resampled[:, :title_features_vectorized.shape[1]], \n",
    "    y_resampled, \n",
    "    X_resampled[:, title_features_vectorized.shape[1]:], \n",
    "    test_size=0.2, \n",
    "    random_state=42\n",
    ")\n",
    "\n",
    "# Convert labels and URL features to tensors\n",
    "train_labels = torch.tensor(train_labels.values, dtype=torch.long)\n",
    "test_labels = torch.tensor(test_labels.values, dtype=torch.long)\n",
    "train_urls = torch.tensor(train_urls, dtype=torch.float)\n",
    "test_urls = torch.tensor(test_urls, dtype=torch.float)\n",
    "\n",
    "# Step 7: Tokenize Text for BERT\n",
    "tokenizer = BertTokenizer.from_pretrained('bert-base-uncased')\n",
    "train_encodings = tokenizer(\n",
    "    [\" \".join(vectorizer.inverse_transform(text_row.reshape(1, -1))[0]) for text_row in train_texts],\n",
    "    truncation=True, padding=True, max_length=512, return_tensors=\"pt\"\n",
    ")\n",
    "test_encodings = tokenizer(\n",
    "    [\" \".join(vectorizer.inverse_transform(text_row.reshape(1, -1))[0]) for text_row in test_texts],\n",
    "    truncation=True, padding=True, max_length=512, return_tensors=\"pt\"\n",
    ")"
   ]
  },
  {
   "cell_type": "code",
   "execution_count": 15,
   "id": "0319fa39",
   "metadata": {},
   "outputs": [],
   "source": [
    "# Step 8: Custom Dataset Class\n",
    "class CombinedDataset(Dataset):\n",
    "    def __init__(self, encodings, labels, url_features):\n",
    "        self.encodings = encodings\n",
    "        self.labels = labels\n",
    "        self.url_features = url_features\n",
    "\n",
    "    def __len__(self):\n",
    "        return len(self.labels)\n",
    "\n",
    "    def __getitem__(self, idx):\n",
    "        item = {key: val[idx] for key, val in self.encodings.items()}\n",
    "        item['labels'] = self.labels[idx]\n",
    "        item['url_features'] = self.url_features[idx]\n",
    "        return item\n",
    "\n",
    "# Create datasets\n",
    "train_dataset = CombinedDataset(train_encodings, train_labels, train_urls)\n",
    "test_dataset = CombinedDataset(test_encodings, test_labels, test_urls)\n",
    "\n",
    "train_dataloader = DataLoader(train_dataset, batch_size=16, shuffle=True)\n",
    "eval_dataloader = DataLoader(test_dataset, batch_size=16)\n",
    "\n",
    "# Step 9: Define BertWithFeatures Model\n",
    "class BertWithFeatures(nn.Module):\n",
    "    def __init__(self, num_labels=2, url_feature_dim=4):  \n",
    "        super(BertWithFeatures, self).__init__()\n",
    "        self.bert = BertForSequenceClassification.from_pretrained(\"bert-base-uncased\", num_labels=num_labels)\n",
    "        self.url_fc = nn.Linear(url_feature_dim, 32)  \n",
    "        self.dropout = nn.Dropout(0.3)\n",
    "        self.fc = nn.Linear(32 + 768, num_labels)  \n",
    "\n",
    "    def forward(self, input_ids, attention_mask, url_features):\n",
    "        outputs = self.bert.bert(input_ids=input_ids, attention_mask=attention_mask)\n",
    "        pooled_output = outputs.pooler_output  \n",
    "\n",
    "        url_emb = torch.relu(self.url_fc(url_features))  \n",
    "        combined = torch.cat((pooled_output, url_emb), dim=1)  \n",
    "        combined = self.dropout(combined)\n",
    "        logits = self.fc(combined)\n",
    "        return logits"
   ]
  },
  {
   "cell_type": "code",
   "execution_count": 16,
   "id": "5da05859",
   "metadata": {},
   "outputs": [
    {
     "name": "stderr",
     "output_type": "stream",
     "text": [
      "Some weights of BertForSequenceClassification were not initialized from the model checkpoint at bert-base-uncased and are newly initialized: ['classifier.bias', 'classifier.weight']\n",
      "You should probably TRAIN this model on a down-stream task to be able to use it for predictions and inference.\n",
      "Epoch 1/5: 100%|█████████████████████████████████████████████████████████| 130/130 [11:40<00:00,  5.39s/it, loss=0.764]\n",
      "Epoch 2/5: 100%|█████████████████████████████████████████████████████████| 130/130 [11:39<00:00,  5.38s/it, loss=0.687]\n",
      "Epoch 3/5: 100%|████████████████████████████████████████████████████████| 130/130 [11:35<00:00,  5.35s/it, loss=0.0493]\n",
      "Epoch 4/5: 100%|████████████████████████████████████████████████████████| 130/130 [11:37<00:00,  5.37s/it, loss=0.0785]\n",
      "Epoch 5/5: 100%|█████████████████████████████████████████████████████████| 130/130 [11:35<00:00,  5.35s/it, loss=0.122]\n"
     ]
    }
   ],
   "source": [
    "# Step 10: Train Model\n",
    "device = torch.device(\"cuda\") if torch.cuda.is_available() else torch.device(\"cpu\")\n",
    "model = BertWithFeatures().to(device)\n",
    "optimizer = torch.optim.AdamW(model.parameters(), lr=2e-5, weight_decay=0.01)\n",
    "\n",
    "num_epochs = 5\n",
    "loss_fct = nn.CrossEntropyLoss()\n",
    "\n",
    "for epoch in range(num_epochs):\n",
    "    model.train()\n",
    "    loop = tqdm(train_dataloader, leave=True)\n",
    "    for batch in loop:\n",
    "        batch = {k: v.to(device) for k, v in batch.items()}\n",
    "        \n",
    "        logits = model(batch['input_ids'], batch['attention_mask'], batch['url_features'])\n",
    "        loss = loss_fct(logits, batch['labels'])\n",
    "\n",
    "        optimizer.zero_grad()\n",
    "        loss.backward()\n",
    "        optimizer.step()\n",
    "\n",
    "        loop.set_description(f\"Epoch {epoch+1}/{num_epochs}\")\n",
    "        loop.set_postfix(loss=loss.item())"
   ]
  },
  {
   "cell_type": "code",
   "execution_count": 17,
   "id": "a558c85d",
   "metadata": {},
   "outputs": [
    {
     "name": "stdout",
     "output_type": "stream",
     "text": [
      "Accuracy: 0.7451737451737451\n",
      "              precision    recall  f1-score   support\n",
      "\n",
      "        Real       0.76      0.70      0.73       255\n",
      "        Fake       0.73      0.79      0.76       263\n",
      "\n",
      "    accuracy                           0.75       518\n",
      "   macro avg       0.75      0.74      0.74       518\n",
      "weighted avg       0.75      0.75      0.74       518\n",
      "\n"
     ]
    }
   ],
   "source": [
    "# Step 11: Evaluate Model\n",
    "model.eval()\n",
    "predictions, true_labels = [], []\n",
    "for batch in eval_dataloader:\n",
    "    batch = {k: v.to(device) for k, v in batch.items()}\n",
    "    with torch.no_grad():\n",
    "        logits = model(batch['input_ids'], batch['attention_mask'], batch['url_features'])\n",
    "        preds = torch.argmax(logits, dim=1)\n",
    "        predictions.extend(preds.cpu().numpy())\n",
    "        true_labels.extend(batch[\"labels\"].cpu().numpy())\n",
    "\n",
    "# Display Metrics\n",
    "print(\"Accuracy:\", accuracy_score(true_labels, predictions))\n",
    "print(classification_report(true_labels, predictions, target_names=['Real', 'Fake']))"
   ]
  },
  {
   "cell_type": "code",
   "execution_count": 18,
   "id": "e6186ea5",
   "metadata": {},
   "outputs": [
    {
     "name": "stdout",
     "output_type": "stream",
     "text": [
      "Model and tokenizer saved successfully!\n"
     ]
    }
   ],
   "source": [
    "import torch\n",
    "\n",
    "# Save the model state dictionary\n",
    "model_save_path = \"optimal_bert_with_features_newsarticle.pth\"\n",
    "torch.save(model.state_dict(), model_save_path)\n",
    "\n",
    "# Save the tokenizer\n",
    "tokenizer_save_path = \"tokenizer\"\n",
    "tokenizer.save_pretrained(tokenizer_save_path)\n",
    "\n",
    "print(\"Model and tokenizer saved successfully!\")\n"
   ]
  },
  {
   "cell_type": "code",
   "execution_count": null,
   "id": "711fb92b-2774-4157-8d1a-210f58ccc106",
   "metadata": {},
   "outputs": [],
   "source": []
  }
 ],
 "metadata": {
  "kernelspec": {
   "display_name": "Python 3 (ipykernel)",
   "language": "python",
   "name": "python3"
  },
  "language_info": {
   "codemirror_mode": {
    "name": "ipython",
    "version": 3
   },
   "file_extension": ".py",
   "mimetype": "text/x-python",
   "name": "python",
   "nbconvert_exporter": "python",
   "pygments_lexer": "ipython3",
   "version": "3.9.18"
  }
 },
 "nbformat": 4,
 "nbformat_minor": 5
}
