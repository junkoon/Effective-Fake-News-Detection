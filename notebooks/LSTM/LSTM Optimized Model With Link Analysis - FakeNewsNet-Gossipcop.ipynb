{
 "cells": [
  {
   "cell_type": "code",
   "execution_count": 1,
   "id": "88f09669",
   "metadata": {},
   "outputs": [],
   "source": [
    "import pandas as pd\n",
    "import numpy as np\n",
    "import torch\n",
    "import torch.nn as nn\n",
    "import torch.optim as optim\n",
    "from sklearn.feature_extraction.text import TfidfVectorizer\n",
    "from imblearn.over_sampling import SMOTE\n",
    "from sklearn.preprocessing import StandardScaler\n",
    "from sklearn.model_selection import train_test_split\n",
    "from torch.utils.data import Dataset, DataLoader\n",
    "from sklearn.metrics import accuracy_score, classification_report, confusion_matrix, ConfusionMatrixDisplay\n",
    "import matplotlib.pyplot as plt\n",
    "from tqdm import tqdm\n",
    "import joblib\n",
    "import tldextract"
   ]
  },
  {
   "cell_type": "code",
   "execution_count": 2,
   "id": "de8c9183",
   "metadata": {},
   "outputs": [],
   "source": [
    "# =============================\n",
    "# 1️⃣ Load & Preprocess Data\n",
    "# =============================\n",
    "fake_news = pd.read_csv('data/fake_gossipcop.csv')\n",
    "real_news = pd.read_csv('data/real_gossipcop.csv')\n",
    "\n",
    "fake_news['labels'] = 1\n",
    "real_news['labels'] = 0\n",
    "\n",
    "data = pd.concat([fake_news[['title', 'labels', 'news_url']], real_news[['title', 'labels', 'news_url']]], ignore_index=True)\n",
    "data.dropna(subset=['title'], inplace=True)\n",
    "\n",
    "# =============================\n",
    "# 2️⃣ Extract & Normalize URL Features\n",
    "# =============================\n",
    "def extract_url_features(url):\n",
    "    if isinstance(url, float):\n",
    "        url = str(url)\n",
    "    ext = tldextract.extract(url)\n",
    "    return {\n",
    "        'domain': ext.domain,\n",
    "        'subdomain': ext.subdomain,\n",
    "        'url_length': len(url),\n",
    "        'has_query': 1 if '?' in url else 0,\n",
    "        'has_hyphens': 1 if '-' in url else 0,\n",
    "        'has_numbers': 1 if any(c.isdigit() for c in url) else 0,\n",
    "    }\n",
    "\n",
    "url_features = data['news_url'].apply(extract_url_features)\n",
    "url_features_df = pd.DataFrame(url_features.tolist())\n",
    "\n",
    "# Encode categorical features\n",
    "url_features_encoded = pd.get_dummies(url_features_df, columns=['domain', 'subdomain'])\n",
    "\n",
    "# Normalize\n",
    "scaler = StandardScaler()\n",
    "url_features_encoded = pd.DataFrame(scaler.fit_transform(url_features_encoded), columns=url_features_encoded.columns)\n",
    "\n",
    "# Save the scaler for inference\n",
    "#joblib.dump(scaler, \"lstm_scaler.pkl\")\n"
   ]
  },
  {
   "cell_type": "code",
   "execution_count": 3,
   "id": "8438b046",
   "metadata": {},
   "outputs": [
    {
     "name": "stderr",
     "output_type": "stream",
     "text": [
      "C:\\Users\\jun_k\\anaconda3\\lib\\site-packages\\sklearn\\base.py:474: FutureWarning: `BaseEstimator._validate_data` is deprecated in 1.6 and will be removed in 1.7. Use `sklearn.utils.validation.validate_data` instead. This function becomes public and is part of the scikit-learn developer API.\n",
      "  warnings.warn(\n",
      "C:\\Users\\jun_k\\anaconda3\\lib\\site-packages\\sklearn\\utils\\_tags.py:354: FutureWarning: The SMOTE or classes from which it inherits use `_get_tags` and `_more_tags`. Please define the `__sklearn_tags__` method, or inherit from `sklearn.base.BaseEstimator` and/or other appropriate mixins such as `sklearn.base.TransformerMixin`, `sklearn.base.ClassifierMixin`, `sklearn.base.RegressorMixin`, and `sklearn.base.OutlierMixin`. From scikit-learn 1.7, not defining `__sklearn_tags__` will raise an error.\n",
      "  warnings.warn(\n"
     ]
    }
   ],
   "source": [
    "# =============================\n",
    "# 3️⃣ Convert Text to Embeddings (TF-IDF)\n",
    "# =============================\n",
    "vectorizer = TfidfVectorizer(max_features=5000)\n",
    "title_features_vectorized = vectorizer.fit_transform(data['title']).toarray()\n",
    "\n",
    "# Save vectorizer for inference\n",
    "#joblib.dump(vectorizer, \"lstm_vectorizer.pkl\")\n",
    "\n",
    "# Align lengths\n",
    "min_length = min(len(title_features_vectorized), len(url_features_encoded))\n",
    "title_features_vectorized = title_features_vectorized[:min_length]\n",
    "url_features_encoded = url_features_encoded.iloc[:min_length]\n",
    "data = data.iloc[:min_length]\n",
    "\n",
    "# =============================\n",
    "# 4️⃣ Apply SMOTE for Balancing\n",
    "# =============================\n",
    "combined_features = np.hstack([title_features_vectorized, url_features_encoded])\n",
    "smote = SMOTE(random_state=42)\n",
    "combined_features_resampled, labels_resampled = smote.fit_resample(combined_features, data['labels'])\n",
    "\n",
    "# =============================\n",
    "# 5️⃣ Train/Validation/Test Split\n",
    "# =============================\n",
    "train_features, test_features, train_labels, test_labels = train_test_split(combined_features_resampled, labels_resampled, test_size=0.2, random_state=42)\n",
    "train_features, val_features, train_labels, val_labels = train_test_split(train_features, train_labels, test_size=0.1, random_state=42)\n",
    "\n",
    "# Convert to PyTorch tensors\n",
    "def to_tensor(features, labels):\n",
    "    return torch.tensor(features, dtype=torch.float32), torch.tensor(labels.values, dtype=torch.long)\n",
    "\n",
    "train_features_tensor, train_labels_tensor = to_tensor(train_features, train_labels)\n",
    "val_features_tensor, val_labels_tensor = to_tensor(val_features, val_labels)\n",
    "test_features_tensor, test_labels_tensor = to_tensor(test_features, test_labels)\n",
    "\n",
    "# =============================\n",
    "# 6️⃣ Create PyTorch Dataset & Dataloader\n",
    "# =============================\n",
    "class FakeNewsDataset(Dataset):\n",
    "    def __init__(self, features, labels):\n",
    "        self.features = features\n",
    "        self.labels = labels\n",
    "\n",
    "    def __len__(self):\n",
    "        return len(self.labels)\n",
    "\n",
    "    def __getitem__(self, idx):\n",
    "        return self.features[idx].unsqueeze(0), self.labels[idx]  # Reshape for LSTM\n",
    "\n",
    "batch_size = 32\n",
    "train_dataset = FakeNewsDataset(train_features_tensor, train_labels_tensor)\n",
    "val_dataset = FakeNewsDataset(val_features_tensor, val_labels_tensor)\n",
    "test_dataset = FakeNewsDataset(test_features_tensor, test_labels_tensor)\n",
    "\n",
    "train_dataloader = DataLoader(train_dataset, batch_size=batch_size, shuffle=True)\n",
    "val_dataloader = DataLoader(val_dataset, batch_size=batch_size)\n",
    "test_dataloader = DataLoader(test_dataset, batch_size=batch_size)"
   ]
  },
  {
   "cell_type": "code",
   "execution_count": 4,
   "id": "1e48acca",
   "metadata": {},
   "outputs": [],
   "source": [
    "# =============================\n",
    "# 7️⃣ Define LSTM Model\n",
    "# =============================\n",
    "class LSTMFakeNewsClassifier(nn.Module):\n",
    "    def __init__(self, input_dim, hidden_dim, num_layers, num_classes):\n",
    "        super(LSTMFakeNewsClassifier, self).__init__()\n",
    "        self.lstm = nn.LSTM(input_dim, hidden_dim, num_layers, batch_first=True)\n",
    "        self.fc = nn.Linear(hidden_dim, num_classes)\n",
    "        self.softmax = nn.Softmax(dim=1)  # Apply softmax for probabilities\n",
    "\n",
    "    def forward(self, x):\n",
    "        out, _ = self.lstm(x)\n",
    "        out = self.fc(out[:, -1, :])  # Last time step output\n",
    "        return self.softmax(out)\n",
    "\n",
    "# Model Initialization\n",
    "input_dim = train_features.shape[1]\n",
    "hidden_dim = 128\n",
    "num_layers = 2\n",
    "num_classes = 2\n",
    "\n",
    "device = torch.device(\"cuda\" if torch.cuda.is_available() else \"cpu\")\n",
    "model = LSTMFakeNewsClassifier(input_dim, hidden_dim, num_layers, num_classes).to(device)\n"
   ]
  },
  {
   "cell_type": "code",
   "execution_count": 5,
   "id": "7270b2f4",
   "metadata": {},
   "outputs": [
    {
     "name": "stderr",
     "output_type": "stream",
     "text": [
      "100%|████████████████████████████████████████████████████████████████████████████████| 757/757 [00:31<00:00, 24.22it/s]\n"
     ]
    },
    {
     "name": "stdout",
     "output_type": "stream",
     "text": [
      "Epoch [1/10], Loss: 0.5188861811334264\n",
      "Validation Accuracy: 0.8353771832032701\n"
     ]
    },
    {
     "name": "stderr",
     "output_type": "stream",
     "text": [
      "100%|████████████████████████████████████████████████████████████████████████████████| 757/757 [00:30<00:00, 24.46it/s]\n"
     ]
    },
    {
     "name": "stdout",
     "output_type": "stream",
     "text": [
      "Epoch [2/10], Loss: 0.44171116193030596\n",
      "Validation Accuracy: 0.8543292456335935\n"
     ]
    },
    {
     "name": "stderr",
     "output_type": "stream",
     "text": [
      "100%|████████████████████████████████████████████████████████████████████████████████| 757/757 [00:30<00:00, 24.50it/s]\n"
     ]
    },
    {
     "name": "stdout",
     "output_type": "stream",
     "text": [
      "Epoch [3/10], Loss: 0.42355139925583823\n",
      "Validation Accuracy: 0.8669639539204756\n"
     ]
    },
    {
     "name": "stderr",
     "output_type": "stream",
     "text": [
      "100%|████████████████████████████████████████████████████████████████████████████████| 757/757 [00:30<00:00, 24.45it/s]\n"
     ]
    },
    {
     "name": "stdout",
     "output_type": "stream",
     "text": [
      "Epoch [4/10], Loss: 0.41585242177410203\n",
      "Validation Accuracy: 0.8409513192121888\n"
     ]
    },
    {
     "name": "stderr",
     "output_type": "stream",
     "text": [
      "100%|████████████████████████████████████████████████████████████████████████████████| 757/757 [00:31<00:00, 24.33it/s]\n"
     ]
    },
    {
     "name": "stdout",
     "output_type": "stream",
     "text": [
      "Epoch [5/10], Loss: 0.40731924772262573\n",
      "Validation Accuracy: 0.8725380899293943\n"
     ]
    },
    {
     "name": "stderr",
     "output_type": "stream",
     "text": [
      "100%|████████████████████████████████████████████████████████████████████████████████| 757/757 [00:30<00:00, 24.43it/s]\n"
     ]
    },
    {
     "name": "stdout",
     "output_type": "stream",
     "text": [
      "Epoch [6/10], Loss: 0.40036380046897396\n",
      "Validation Accuracy: 0.8695652173913043\n"
     ]
    },
    {
     "name": "stderr",
     "output_type": "stream",
     "text": [
      "100%|████████████████████████████████████████████████████████████████████████████████| 757/757 [00:30<00:00, 24.59it/s]\n"
     ]
    },
    {
     "name": "stdout",
     "output_type": "stream",
     "text": [
      "Epoch [7/10], Loss: 0.39744043610055035\n",
      "Validation Accuracy: 0.8725380899293943\n"
     ]
    },
    {
     "name": "stderr",
     "output_type": "stream",
     "text": [
      "100%|████████████████████████████████████████████████████████████████████████████████| 757/757 [00:30<00:00, 24.49it/s]\n"
     ]
    },
    {
     "name": "stdout",
     "output_type": "stream",
     "text": [
      "Epoch [8/10], Loss: 0.39220750320067965\n",
      "Validation Accuracy: 0.8795986622073578\n"
     ]
    },
    {
     "name": "stderr",
     "output_type": "stream",
     "text": [
      "100%|████████████████████████████████████████████████████████████████████████████████| 757/757 [00:31<00:00, 24.26it/s]\n"
     ]
    },
    {
     "name": "stdout",
     "output_type": "stream",
     "text": [
      "Epoch [9/10], Loss: 0.3881342346082433\n",
      "Validation Accuracy: 0.8773690078037905\n"
     ]
    },
    {
     "name": "stderr",
     "output_type": "stream",
     "text": [
      "100%|████████████████████████████████████████████████████████████████████████████████| 757/757 [00:30<00:00, 24.63it/s]\n"
     ]
    },
    {
     "name": "stdout",
     "output_type": "stream",
     "text": [
      "Epoch [10/10], Loss: 0.3856982965529201\n",
      "Validation Accuracy: 0.8855444072835377\n",
      "Best model saved!\n"
     ]
    },
    {
     "data": {
      "text/plain": [
       "<All keys matched successfully>"
      ]
     },
     "execution_count": 5,
     "metadata": {},
     "output_type": "execute_result"
    }
   ],
   "source": [
    "# =============================\n",
    "# 8️⃣ Training Setup\n",
    "# =============================\n",
    "criterion = nn.CrossEntropyLoss()\n",
    "optimizer = optim.Adam(model.parameters(), lr=1e-3)\n",
    "\n",
    "num_epochs = 10\n",
    "best_val_acc = 0\n",
    "\n",
    "for epoch in range(num_epochs):\n",
    "    model.train()\n",
    "    running_loss = 0.0\n",
    "    for batch_features, batch_labels in tqdm(train_dataloader):\n",
    "        batch_features, batch_labels = batch_features.to(device), batch_labels.to(device)\n",
    "\n",
    "        optimizer.zero_grad()\n",
    "        outputs = model(batch_features)\n",
    "        loss = criterion(outputs, batch_labels)\n",
    "        loss.backward()\n",
    "        optimizer.step()\n",
    "\n",
    "        running_loss += loss.item()\n",
    "    \n",
    "    print(f\"Epoch [{epoch+1}/{num_epochs}], Loss: {running_loss/len(train_dataloader)}\")\n",
    "\n",
    "    # Validation\n",
    "    model.eval()\n",
    "    val_preds = []\n",
    "    val_labels_list = []\n",
    "    with torch.no_grad():\n",
    "        for batch_features, batch_labels in val_dataloader:\n",
    "            batch_features, batch_labels = batch_features.to(device), batch_labels.to(device)\n",
    "            outputs = model(batch_features)\n",
    "            preds = torch.argmax(outputs, dim=1)\n",
    "            val_preds.extend(preds.cpu().numpy())\n",
    "            val_labels_list.extend(batch_labels.cpu().numpy())\n",
    "\n",
    "    val_acc = accuracy_score(val_labels_list, val_preds)\n",
    "    print(f\"Validation Accuracy: {val_acc}\")\n",
    "\n",
    "    if val_acc > best_val_acc:\n",
    "        torch.save(model.state_dict(), \"best_fake_news_lstm_gossicop.pth\")\n",
    "        best_val_acc = val_acc\n",
    "\n",
    "print(\"Best model saved!\")\n",
    "\n",
    "# =============================\n",
    "# 9️⃣ Final Model Evaluation\n",
    "# =============================\n",
    "model.load_state_dict(torch.load(\"best_fake_news_lstm_gossicop.pth\"))"
   ]
  },
  {
   "cell_type": "code",
   "execution_count": 7,
   "id": "d64c26c7",
   "metadata": {},
   "outputs": [
    {
     "name": "stdout",
     "output_type": "stream",
     "text": [
      "Accuracy: 0.8855444072835377\n",
      "              precision    recall  f1-score   support\n",
      "\n",
      "        Real       0.89      0.88      0.88      1323\n",
      "        Fake       0.88      0.89      0.89      1368\n",
      "\n",
      "    accuracy                           0.89      2691\n",
      "   macro avg       0.89      0.89      0.89      2691\n",
      "weighted avg       0.89      0.89      0.89      2691\n",
      "\n"
     ]
    },
    {
     "data": {
      "image/png": "[encoded data removed]",
      "text/plain": [
       "<Figure size 432x288 with 2 Axes>"
      ]
     },
     "metadata": {
      "needs_background": "light"
     },
     "output_type": "display_data"
    }
   ],
   "source": [
    "from sklearn.metrics import accuracy_score, classification_report, confusion_matrix, ConfusionMatrixDisplay\n",
    "import matplotlib.pyplot as plt\n",
    "\n",
    "accuracy = accuracy_score(val_labels_list, val_preds)\n",
    "print(\"Accuracy:\", accuracy)\n",
    "\n",
    "print(classification_report(val_labels_list, val_preds, target_names=['Real', 'Fake']))\n",
    "\n",
    "# Confusion Matrix Visualization\n",
    "conf_matrix = confusion_matrix(val_labels_list, val_preds)\n",
    "disp = ConfusionMatrixDisplay(conf_matrix, display_labels=['Real', 'Fake'])\n",
    "disp.plot(cmap=plt.cm.Blues)\n",
    "plt.show()"
   ]
  },
  {
   "cell_type": "code",
   "execution_count": null,
   "id": "2be9f34f",
   "metadata": {},
   "outputs": [],
   "source": [
    "# Corrected LSTM input shape\n",
    "# Used TF-IDF embeddings instead of BoW\n",
    "# Applied Softmax activation in LSTM model\n",
    "# Added validation set\n",
    "# Saved vectorizer & scaler for inference"
   ]
  }
 ],
 "metadata": {
  "kernelspec": {
   "display_name": "Python 3 (ipykernel)",
   "language": "python",
   "name": "python3"
  },
  "language_info": {
   "codemirror_mode": {
    "name": "ipython",
    "version": 3
   },
   "file_extension": ".py",
   "mimetype": "text/x-python",
   "name": "python",
   "nbconvert_exporter": "python",
   "pygments_lexer": "ipython3",
   "version": "3.9.7"
  }
 },
 "nbformat": 4,
 "nbformat_minor": 5
}
