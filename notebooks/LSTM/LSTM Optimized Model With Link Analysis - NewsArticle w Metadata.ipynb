{
 "cells": [
  {
   "cell_type": "code",
   "execution_count": 28,
   "id": "88f09669",
   "metadata": {},
   "outputs": [],
   "source": [
    "import pandas as pd\n",
    "import numpy as np\n",
    "import torch\n",
    "import torch.nn as nn\n",
    "import torch.optim as optim\n",
    "from sklearn.model_selection import train_test_split\n",
    "from torch.utils.data import Dataset, DataLoader\n",
    "from sklearn.metrics import accuracy_score, classification_report, confusion_matrix, ConfusionMatrixDisplay\n",
    "import matplotlib.pyplot as plt\n",
    "from tqdm import tqdm\n",
    "from tensorflow.keras.preprocessing.text import Tokenizer\n",
    "from tensorflow.keras.preprocessing.sequence import pad_sequences"
   ]
  },
  {
   "cell_type": "code",
   "execution_count": 29,
   "id": "de8c9183",
   "metadata": {},
   "outputs": [],
   "source": [
    "# ========== Load and Preprocess Data ==========\n",
    "news_data = pd.read_csv('data/news_articles_with_metadata.csv')\n",
    "\n",
    "# Keep only relevant columns\n",
    "news_data = news_data.drop(columns=['author', 'published', 'text', 'language', 'main_img_url', 'type', 'title_without_stopwords', \n",
    "                                    'text_without_stopwords', 'hasImage'], errors='ignore')\n",
    "\n",
    "# Ensure 'label' column is valid and convert it to binary values\n",
    "news_data = news_data[news_data['label'].apply(lambda x: isinstance(x, str))]\n",
    "news_data['label'] = news_data['label'].apply(lambda x: 1 if x.lower() == 'fake' else 0)\n",
    "\n",
    "# Combine title and metadata for tokenization\n",
    "news_data['combined_text'] = news_data['title'].astype(str) + ' ' + news_data['meta_title'].fillna('') + ' ' + news_data['meta_description'].fillna('')\n",
    "\n",
    "# Drop missing combined texts\n",
    "news_data.dropna(subset=['combined_text'], inplace=True)\n",
    "\n",
    "# ========== Tokenization & Sequence Padding ==========\n",
    "MAX_VOCAB_SIZE = 10000  # Max vocabulary size\n",
    "MAX_SEQ_LENGTH = 100    # Max sequence length\n",
    "\n",
    "tokenizer = Tokenizer(num_words=MAX_VOCAB_SIZE, oov_token=\"<OOV>\")\n",
    "tokenizer.fit_on_texts(news_data['combined_text'])\n",
    "\n",
    "# Convert combined texts to sequences\n",
    "sequences = tokenizer.texts_to_sequences(news_data['combined_text'])\n",
    "padded_sequences = pad_sequences(sequences, maxlen=MAX_SEQ_LENGTH, padding='post', truncating='post')\n",
    "\n",
    "# Convert labels to NumPy array\n",
    "labels = np.array(news_data['label'])"
   ]
  },
  {
   "cell_type": "code",
   "execution_count": 30,
   "id": "8438b046",
   "metadata": {},
   "outputs": [],
   "source": [
    "# ========== Train-Test Split ==========\n",
    "train_features, test_features, train_labels, test_labels = train_test_split(padded_sequences, labels, test_size=0.2, random_state=42)\n",
    "\n",
    "# Convert to PyTorch tensors\n",
    "train_features_tensor = torch.tensor(train_features, dtype=torch.long)\n",
    "test_features_tensor = torch.tensor(test_features, dtype=torch.long)\n",
    "train_labels_tensor = torch.tensor(train_labels, dtype=torch.long)\n",
    "test_labels_tensor = torch.tensor(test_labels, dtype=torch.long)\n",
    "\n",
    "# ========== Create PyTorch Dataset ==========\n",
    "class FakeNewsDataset(Dataset):\n",
    "    def __init__(self, features, labels):\n",
    "        self.features = features\n",
    "        self.labels = labels\n",
    "\n",
    "    def __len__(self):\n",
    "        return len(self.labels)\n",
    "\n",
    "    def __getitem__(self, idx):\n",
    "        return self.features[idx], self.labels[idx]\n",
    "\n",
    "# Data Loaders\n",
    "batch_size = 32\n",
    "train_dataset = FakeNewsDataset(train_features_tensor, train_labels_tensor)\n",
    "test_dataset = FakeNewsDataset(test_features_tensor, test_labels_tensor)\n",
    "\n",
    "train_dataloader = DataLoader(train_dataset, batch_size=batch_size, shuffle=True)\n",
    "test_dataloader = DataLoader(test_dataset, batch_size=batch_size)\t"
   ]
  },
  {
   "cell_type": "code",
   "execution_count": 31,
   "id": "1e48acca",
   "metadata": {},
   "outputs": [
    {
     "name": "stdout",
     "output_type": "stream",
     "text": [
      "LSTMFakeNewsClassifier(\n",
      "  (embedding): Embedding(6052, 128, padding_idx=0)\n",
      "  (lstm): LSTM(128, 128, num_layers=2, batch_first=True)\n",
      "  (fc): Linear(in_features=128, out_features=2, bias=True)\n",
      ")\n"
     ]
    }
   ],
   "source": [
    "# ========== Define LSTM Model ==========\n",
    "class LSTMFakeNewsClassifier(nn.Module):\n",
    "    def __init__(self, vocab_size, embedding_dim, hidden_dim, num_layers, num_classes):\n",
    "        super(LSTMFakeNewsClassifier, self).__init__()\n",
    "        self.embedding = nn.Embedding(vocab_size, embedding_dim, padding_idx=0)\n",
    "        self.lstm = nn.LSTM(embedding_dim, hidden_dim, num_layers, batch_first=True)\n",
    "        self.fc = nn.Linear(hidden_dim, num_classes)\n",
    "\n",
    "    def forward(self, x):\n",
    "        x = self.embedding(x)  # Convert token IDs to embeddings\n",
    "        out, _ = self.lstm(x)  # LSTM layer\n",
    "        out = self.fc(out[:, -1, :])  # Take last time step's output\n",
    "        return out\n",
    "\n",
    "# ========== Initialize Model ==========\n",
    "vocab_size = min(len(tokenizer.word_index) + 1, MAX_VOCAB_SIZE)  # Ensure vocab size does not exceed limit\n",
    "embedding_dim = 128\n",
    "hidden_dim = 128\n",
    "num_layers = 2\n",
    "num_classes = 2  # Real vs Fake\n",
    "\n",
    "device = torch.device(\"cuda\" if torch.cuda.is_available() else \"cpu\")\n",
    "model = LSTMFakeNewsClassifier(vocab_size, embedding_dim, hidden_dim, num_layers, num_classes).to(device)\n",
    "\n",
    "# Print model summary\n",
    "print(model)"
   ]
  },
  {
   "cell_type": "code",
   "execution_count": 32,
   "id": "7270b2f4",
   "metadata": {},
   "outputs": [
    {
     "name": "stderr",
     "output_type": "stream",
     "text": [
      "100%|██████████| 53/53 [00:00<00:00, 258.58it/s]\n"
     ]
    },
    {
     "name": "stdout",
     "output_type": "stream",
     "text": [
      "Epoch [1/5], Loss: 0.6687681438787928\n"
     ]
    },
    {
     "name": "stderr",
     "output_type": "stream",
     "text": [
      "100%|██████████| 53/53 [00:00<00:00, 467.06it/s]\n"
     ]
    },
    {
     "name": "stdout",
     "output_type": "stream",
     "text": [
      "Epoch [2/5], Loss: 0.668462095395574\n"
     ]
    },
    {
     "name": "stderr",
     "output_type": "stream",
     "text": [
      "100%|██████████| 53/53 [00:00<00:00, 570.61it/s]\n"
     ]
    },
    {
     "name": "stdout",
     "output_type": "stream",
     "text": [
      "Epoch [3/5], Loss: 0.6710720017271222\n"
     ]
    },
    {
     "name": "stderr",
     "output_type": "stream",
     "text": [
      "100%|██████████| 53/53 [00:00<00:00, 499.94it/s]\n"
     ]
    },
    {
     "name": "stdout",
     "output_type": "stream",
     "text": [
      "Epoch [4/5], Loss: 0.6666616583770176\n"
     ]
    },
    {
     "name": "stderr",
     "output_type": "stream",
     "text": [
      "100%|██████████| 53/53 [00:00<00:00, 444.18it/s]"
     ]
    },
    {
     "name": "stdout",
     "output_type": "stream",
     "text": [
      "Epoch [5/5], Loss: 0.6677959561347961\n"
     ]
    },
    {
     "name": "stderr",
     "output_type": "stream",
     "text": [
      "\n"
     ]
    }
   ],
   "source": [
    "# ========== Training Setup ==========\n",
    "criterion = nn.CrossEntropyLoss()\n",
    "optimizer = optim.Adam(model.parameters(), lr=1e-3)\n",
    "\n",
    "# ========== Training Loop ==========\n",
    "num_epochs = 5\n",
    "for epoch in range(num_epochs):\n",
    "    model.train()\n",
    "    running_loss = 0.0\n",
    "    for batch_features, batch_labels in tqdm(train_dataloader):\n",
    "        batch_features, batch_labels = batch_features.to(device), batch_labels.to(device)\n",
    "\n",
    "        optimizer.zero_grad()\n",
    "        outputs = model(batch_features)\n",
    "        loss = criterion(outputs, batch_labels)\n",
    "        loss.backward()\n",
    "        optimizer.step()\n",
    "\n",
    "        running_loss += loss.item()\n",
    "    print(f\"Epoch [{epoch+1}/{num_epochs}], Loss: {running_loss/len(train_dataloader)}\")"
   ]
  },
  {
   "cell_type": "code",
   "execution_count": 33,
   "id": "d64c26c7",
   "metadata": {},
   "outputs": [
    {
     "name": "stdout",
     "output_type": "stream",
     "text": [
      "Model saved as fake_news_newsarticle_lstm.pth\n",
      "Accuracy: 0.630071599045346\n",
      "              precision    recall  f1-score   support\n",
      "\n",
      "        Real       0.00      0.00      0.00       155\n",
      "        Fake       0.63      1.00      0.77       264\n",
      "\n",
      "    accuracy                           0.63       419\n",
      "   macro avg       0.32      0.50      0.39       419\n",
      "weighted avg       0.40      0.63      0.49       419\n",
      "\n"
     ]
    },
    {
     "name": "stderr",
     "output_type": "stream",
     "text": [
      "C:\\Users\\Koon\\anaconda3\\envs\\GPU\\lib\\site-packages\\sklearn\\metrics\\_classification.py:1565: UndefinedMetricWarning: Precision is ill-defined and being set to 0.0 in labels with no predicted samples. Use `zero_division` parameter to control this behavior.\n",
      "  _warn_prf(average, modifier, f\"{metric.capitalize()} is\", len(result))\n",
      "C:\\Users\\Koon\\anaconda3\\envs\\GPU\\lib\\site-packages\\sklearn\\metrics\\_classification.py:1565: UndefinedMetricWarning: Precision is ill-defined and being set to 0.0 in labels with no predicted samples. Use `zero_division` parameter to control this behavior.\n",
      "  _warn_prf(average, modifier, f\"{metric.capitalize()} is\", len(result))\n",
      "C:\\Users\\Koon\\anaconda3\\envs\\GPU\\lib\\site-packages\\sklearn\\metrics\\_classification.py:1565: UndefinedMetricWarning: Precision is ill-defined and being set to 0.0 in labels with no predicted samples. Use `zero_division` parameter to control this behavior.\n",
      "  _warn_prf(average, modifier, f\"{metric.capitalize()} is\", len(result))\n"
     ]
    },
    {
     "data": {
      "image/png": "[encoded data removed]",
      "text/plain": [
       "<Figure size 640x480 with 2 Axes>"
      ]
     },
     "metadata": {},
     "output_type": "display_data"
    }
   ],
   "source": [
    "# ========== Evaluation ==========\n",
    "model.eval()\n",
    "all_preds = []\n",
    "all_labels = []\n",
    "with torch.no_grad():\n",
    "    for batch_features, batch_labels in test_dataloader:\n",
    "        batch_features, batch_labels = batch_features.to(device), batch_labels.to(device)\n",
    "        outputs = model(batch_features)\n",
    "        preds = torch.argmax(outputs, dim=1)\n",
    "        all_preds.extend(preds.cpu().numpy())\n",
    "        all_labels.extend(batch_labels.cpu().numpy())\n",
    "\n",
    "# ========== Save Model ==========\n",
    "torch.save(model.state_dict(), \"fake_news_newsarticle_lstm.pth\")\n",
    "print(\"Model saved as fake_news_newsarticle_lstm.pth\")\n",
    "\n",
    "# ========== Evaluation Metrics ==========\n",
    "accuracy = accuracy_score(all_labels, all_preds)\n",
    "print(\"Accuracy:\", accuracy)\n",
    "\n",
    "print(classification_report(all_labels, all_preds, target_names=['Real', 'Fake']))\n",
    "\n",
    "# Plot Confusion Matrix\n",
    "conf_matrix = confusion_matrix(all_labels, all_preds)\n",
    "disp = ConfusionMatrixDisplay(conf_matrix, display_labels=['Real', 'Fake'])\n",
    "disp.plot(cmap=plt.cm.Blues)\n",
    "plt.show()"
   ]
  }
 ],
 "metadata": {
  "kernelspec": {
   "display_name": "Python [conda env:GPU]",
   "language": "python",
   "name": "conda-env-GPU-py"
  },
  "language_info": {
   "codemirror_mode": {
    "name": "ipython",
    "version": 3
   },
   "file_extension": ".py",
   "mimetype": "text/x-python",
   "name": "python",
   "nbconvert_exporter": "python",
   "pygments_lexer": "ipython3",
   "version": "3.9.18"
  }
 },
 "nbformat": 4,
 "nbformat_minor": 5
}
