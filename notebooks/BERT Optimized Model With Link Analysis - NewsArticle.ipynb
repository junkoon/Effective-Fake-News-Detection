{
 "cells": [
  {
   "cell_type": "code",
   "execution_count": 1,
   "id": "876155a7",
   "metadata": {},
   "outputs": [],
   "source": [
    "import pandas as pd\n",
    "import numpy as np\n",
    "from sklearn.feature_extraction.text import CountVectorizer\n",
    "from imblearn.over_sampling import SMOTE\n",
    "from sklearn.preprocessing import StandardScaler\n",
    "from sklearn.model_selection import train_test_split\n",
    "from torch.utils.data import Dataset, DataLoader\n",
    "import torch\n",
    "from transformers import BertModel\n",
    "import tldextract\n",
    "from sklearn.metrics import accuracy_score, classification_report, confusion_matrix, ConfusionMatrixDisplay\n",
    "import torch.nn as nn\n",
    "from torch.optim import AdamW\n",
    "from transformers import get_scheduler\n",
    "from tqdm import tqdm"
   ]
  },
  {
   "cell_type": "code",
   "execution_count": 8,
   "id": "d09e2004",
   "metadata": {},
   "outputs": [
    {
     "name": "stdout",
     "output_type": "stream",
     "text": [
      "1    1294\n",
      "0     801\n",
      "Name: label, dtype: int64\n"
     ]
    }
   ],
   "source": [
    "# Step 1: Load and Prepare Data\n",
    "news_data = pd.read_csv('data/news_articles.csv')  # Replace with the correct path\n",
    "\n",
    "news_data = news_data.drop(columns=['author', 'published', 'text', 'language', 'main_img_url', 'type', 'title_without_stopwords', 'text_without_stopwords', 'hasImage'], errors='ignore')\n",
    "news_data = news_data[news_data['label'].apply(lambda x: isinstance(x, str))]  # Filter out non-string labels\n",
    "news_data['label'] = news_data['label'].apply(lambda x: 1 if x.lower() == 'fake' else 0)\n",
    "\n",
    "# Check class distribution\n",
    "print(news_data['label'].value_counts())\n",
    "\n",
    "# Ensure there are both classes present\n",
    "if news_data['label'].nunique() > 1:\n",
    "    news_data.dropna(subset=['title'], inplace=True)\n",
    "\n"
   ]
  },
  {
   "cell_type": "code",
   "execution_count": 11,
   "id": "38d492e9",
   "metadata": {},
   "outputs": [],
   "source": [
    "# Refined Data Augmentation\n",
    "def augment_title(title):\n",
    "    synonyms = {'fake': 'false', 'news': 'story'}\n",
    "    words = title.split()\n",
    "    return ' '.join([synonyms.get(w.lower(), w) for w in words])\n",
    "\n",
    "news_data['title'] = news_data['title'].apply(augment_title)\n",
    "\n",
    "# Extract URL features\n",
    "import tldextract\n",
    "\n",
    "def extract_url_features(url):\n",
    "    if isinstance(url, float):\n",
    "        url = str(url)\n",
    "    ext = tldextract.extract(url)\n",
    "    return {\n",
    "        'domain': ext.domain,\n",
    "        'subdomain': ext.subdomain,\n",
    "        'url_length': len(url),\n",
    "        'has_query': 1 if '?' in url else 0,\n",
    "        'has_hyphens': 1 if '-' in url else 0,\n",
    "        'has_numbers': 1 if any(c.isdigit() for c in url) else 0,\n",
    "    }\n",
    "\n",
    "url_features = news_data['site_url'].apply(extract_url_features)\n",
    "url_features_df = pd.DataFrame(url_features.tolist())\n",
    "\n",
    "# Encode and normalize URL features\n",
    "url_features_encoded = pd.get_dummies(url_features_df, columns=['domain', 'subdomain'])\n",
    "scaler = StandardScaler()\n",
    "url_features_encoded = pd.DataFrame(scaler.fit_transform(url_features_encoded), columns=url_features_encoded.columns)\n"
   ]
  },
  {
   "cell_type": "code",
   "execution_count": 12,
   "id": "c963ebf4",
   "metadata": {},
   "outputs": [
    {
     "name": "stderr",
     "output_type": "stream",
     "text": [
      "C:\\Users\\jun_k\\anaconda3\\lib\\site-packages\\sklearn\\base.py:474: FutureWarning: `BaseEstimator._validate_data` is deprecated in 1.6 and will be removed in 1.7. Use `sklearn.utils.validation.validate_data` instead. This function becomes public and is part of the scikit-learn developer API.\n",
      "  warnings.warn(\n",
      "C:\\Users\\jun_k\\anaconda3\\lib\\site-packages\\sklearn\\utils\\_tags.py:354: FutureWarning: The SMOTE or classes from which it inherits use `_get_tags` and `_more_tags`. Please define the `__sklearn_tags__` method, or inherit from `sklearn.base.BaseEstimator` and/or other appropriate mixins such as `sklearn.base.TransformerMixin`, `sklearn.base.ClassifierMixin`, `sklearn.base.RegressorMixin`, and `sklearn.base.OutlierMixin`. From scikit-learn 1.7, not defining `__sklearn_tags__` will raise an error.\n",
      "  warnings.warn(\n"
     ]
    }
   ],
   "source": [
    "# Step 4: Vectorize Titles\n",
    "\n",
    "vectorizer = CountVectorizer(max_features=5000)  # Limit features to avoid memory issues\n",
    "title_features_vectorized = vectorizer.fit_transform(news_data['title']).toarray()\n",
    "\n",
    "# Align Data\n",
    "min_length = min(len(title_features_vectorized), len(url_features_encoded))\n",
    "title_features_vectorized = title_features_vectorized[:min_length]\n",
    "url_features_encoded = url_features_encoded.iloc[:min_length]\n",
    "news_data = news_data.iloc[:min_length]\n",
    "\n",
    "# Combine Features for SMOTE\n",
    "combined_features = np.hstack([title_features_vectorized, url_features_encoded])\n",
    "\n",
    "# Apply SMOTE\n",
    "smote = SMOTE(random_state=42)\n",
    "combined_features_resampled, labels_resampled = smote.fit_resample(combined_features, news_data['label'])\n",
    "\n",
    "# Split Combined Features Back\n",
    "title_features_resampled = combined_features_resampled[:, :title_features_vectorized.shape[1]]\n",
    "url_features_resampled = combined_features_resampled[:, title_features_vectorized.shape[1]:]\n",
    "\n",
    "# Convert resampled title features back to text\n",
    "title_features_resampled = [\n",
    "    \" \".join(vectorizer.inverse_transform(title_row.reshape(1, -1))[0]) for title_row in title_features_resampled\n",
    "]\n",
    "\n"
   ]
  },
  {
   "cell_type": "code",
   "execution_count": 13,
   "id": "21eee3e4",
   "metadata": {},
   "outputs": [],
   "source": [
    "from transformers import BertTokenizer\n",
    "import torch\n",
    "\n",
    "\n",
    "# Tokenizer initialization\n",
    "tokenizer = BertTokenizer.from_pretrained('bert-base-uncased')\n",
    "\n",
    "# Split Data into Train/Test Sets\n",
    "train_texts, test_texts, train_labels, test_labels, train_urls, test_urls = train_test_split(\n",
    "    title_features_resampled, labels_resampled, url_features_resampled, test_size=0.2, random_state=42\n",
    ")\n",
    "\n",
    "# Tokenize the train and test texts\n",
    "train_encodings = tokenizer(train_texts, truncation=True, padding=True, max_length=512)\n",
    "test_encodings = tokenizer(test_texts, truncation=True, padding=True, max_length=512)\n",
    "\n",
    "# Convert to torch tensors\n",
    "train_encodings = {key: torch.tensor(val) for key, val in train_encodings.items()}\n",
    "test_encodings = {key: torch.tensor(val) for key, val in test_encodings.items()}\n",
    "\n",
    "class CombinedDataset(Dataset):\n",
    "    def __init__(self, encodings, labels, url_features):\n",
    "        self.encodings = encodings\n",
    "        self.labels = labels\n",
    "        self.url_features = torch.tensor(url_features, dtype=torch.float)\n",
    "\n",
    "    def __len__(self):\n",
    "        return len(self.labels)\n",
    "\n",
    "    def __getitem__(self, idx):\n",
    "        item = {key: val[idx] for key, val in self.encodings.items()}\n",
    "        item['labels'] = torch.tensor(self.labels.iloc[idx], dtype=torch.long)\n",
    "        item['url_features'] = self.url_features[idx]\n",
    "        return item\n",
    "\n",
    "# Create datasets\n",
    "train_dataset = CombinedDataset(train_encodings, train_labels, train_urls)\n",
    "test_dataset = CombinedDataset(test_encodings, test_labels, test_urls)\n",
    "\n",
    "train_dataloader = DataLoader(train_dataset, batch_size=16, shuffle=True)\n",
    "eval_dataloader = DataLoader(test_dataset, batch_size=16)\n",
    "\n"
   ]
  },
  {
   "cell_type": "code",
   "execution_count": 14,
   "id": "13deca3f",
   "metadata": {},
   "outputs": [],
   "source": [
    "\n",
    "# Model with enhanced URL features\n",
    "class BertWithEnhancedURLClassifier(nn.Module):\n",
    "    def __init__(self, bert_model_name, url_feature_dim):\n",
    "        super(BertWithEnhancedURLClassifier, self).__init__()\n",
    "        self.bert = BertModel.from_pretrained(bert_model_name)\n",
    "        self.url_transform = nn.Sequential(\n",
    "            nn.Linear(url_feature_dim, 128),\n",
    "            nn.ReLU(),\n",
    "            nn.Linear(128, 64)\n",
    "        )\n",
    "        self.classifier = nn.Linear(self.bert.config.hidden_size + 64, 2)\n",
    "\n",
    "    def forward(self, input_ids, attention_mask, url_features):\n",
    "        bert_output = self.bert(input_ids=input_ids, attention_mask=attention_mask).pooler_output\n",
    "        url_transformed = self.url_transform(url_features)\n",
    "        combined_input = torch.cat((bert_output, url_transformed), dim=1)\n",
    "        logits = self.classifier(combined_input)\n",
    "        return logits\n",
    "\n",
    "url_feature_dim = train_urls.shape[1]\n",
    "model = BertWithEnhancedURLClassifier('bert-base-uncased', url_feature_dim)"
   ]
  },
  {
   "cell_type": "code",
   "execution_count": 15,
   "id": "c534010c",
   "metadata": {},
   "outputs": [],
   "source": [
    "# Model training function\n",
    "def train_model(model, train_dataloader, eval_dataloader, num_epochs, device):\n",
    "    optimizer = AdamW(model.parameters(), lr=1e-5)\n",
    "    num_training_steps = num_epochs * len(train_dataloader)\n",
    "    lr_scheduler = get_scheduler(\"linear\", optimizer=optimizer, num_warmup_steps=0, num_training_steps=num_training_steps)\n",
    "\n",
    "    model.to(device)\n",
    "    progress_bar = tqdm(range(num_training_steps))\n",
    "\n",
    "    for epoch in range(num_epochs):\n",
    "        model.train()\n",
    "        for batch in train_dataloader:\n",
    "            batch = {k: v.to(device) for k, v in batch.items()}\n",
    "            outputs = model(\n",
    "                input_ids=batch[\"input_ids\"],\n",
    "                attention_mask=batch[\"attention_mask\"],\n",
    "                url_features=batch[\"url_features\"]\n",
    "            )\n",
    "            logits = outputs\n",
    "            loss_fct = nn.CrossEntropyLoss(weight=torch.tensor([1.0, 1.5], device=device))\n",
    "            loss = loss_fct(logits, batch[\"labels\"])\n",
    "\n",
    "            loss.backward()\n",
    "            optimizer.step()\n",
    "            lr_scheduler.step()\n",
    "            optimizer.zero_grad()\n",
    "            progress_bar.update(1)\n",
    "\n",
    "        model.eval()\n",
    "        eval_loss = 0\n",
    "        for batch in eval_dataloader:\n",
    "            batch = {k: v.to(device) for k, v in batch.items()}\n",
    "            with torch.no_grad():\n",
    "                outputs = model(\n",
    "                    input_ids=batch[\"input_ids\"],\n",
    "                    attention_mask=batch[\"attention_mask\"],\n",
    "                    url_features=batch[\"url_features\"]\n",
    "                )\n",
    "                logits = outputs\n",
    "                loss = loss_fct(logits, batch[\"labels\"])\n",
    "                eval_loss += loss.item()\n",
    "        print(f\"Epoch {epoch + 1}/{num_epochs}, Evaluation Loss: {eval_loss / len(eval_dataloader)}\")\n",
    "    return model"
   ]
  },
  {
   "cell_type": "code",
   "execution_count": 16,
   "id": "8f338aea",
   "metadata": {},
   "outputs": [
    {
     "name": "stderr",
     "output_type": "stream",
     "text": [
      " 20%|████████████████                                                                | 130/650 [10:47<35:09,  4.06s/it]"
     ]
    },
    {
     "name": "stdout",
     "output_type": "stream",
     "text": [
      "Epoch 1/5, Evaluation Loss: 0.6025219722227617\n"
     ]
    },
    {
     "name": "stderr",
     "output_type": "stream",
     "text": [
      " 40%|████████████████████████████████                                                | 260/650 [22:15<27:47,  4.27s/it]"
     ]
    },
    {
     "name": "stdout",
     "output_type": "stream",
     "text": [
      "Epoch 2/5, Evaluation Loss: 0.6238005630897753\n"
     ]
    },
    {
     "name": "stderr",
     "output_type": "stream",
     "text": [
      " 60%|████████████████████████████████████████████████                                | 390/650 [33:44<18:46,  4.33s/it]"
     ]
    },
    {
     "name": "stdout",
     "output_type": "stream",
     "text": [
      "Epoch 3/5, Evaluation Loss: 0.5870685604485598\n"
     ]
    },
    {
     "name": "stderr",
     "output_type": "stream",
     "text": [
      " 80%|████████████████████████████████████████████████████████████████                | 520/650 [45:10<09:15,  4.28s/it]"
     ]
    },
    {
     "name": "stdout",
     "output_type": "stream",
     "text": [
      "Epoch 4/5, Evaluation Loss: 0.567054375554576\n"
     ]
    },
    {
     "name": "stderr",
     "output_type": "stream",
     "text": [
      "100%|████████████████████████████████████████████████████████████████████████████████| 650/650 [57:22<00:00,  5.30s/it]"
     ]
    },
    {
     "name": "stdout",
     "output_type": "stream",
     "text": [
      "Epoch 5/5, Evaluation Loss: 0.5804808392669215\n"
     ]
    },
    {
     "name": "stderr",
     "output_type": "stream",
     "text": [
      "\n"
     ]
    },
    {
     "name": "stdout",
     "output_type": "stream",
     "text": [
      "Model saved as fake_news_model_newsarticle.pth\n"
     ]
    }
   ],
   "source": [
    "# Train Model\n",
    "device = torch.device(\"cuda\") if torch.cuda.is_available() else torch.device(\"cpu\")\n",
    "num_epochs = 5\n",
    "model = train_model(model, train_dataloader, eval_dataloader, num_epochs, device)\n",
    "\n",
    "# Save the trained model\n",
    "torch.save({\n",
    "    'model_state_dict': model.state_dict(),\n",
    "}, \"fake_news_model_newsarticle.pth\")\n",
    "print(\"Model saved as fake_news_model_newsarticle.pth\")"
   ]
  },
  {
   "cell_type": "code",
   "execution_count": 17,
   "id": "174c4a58",
   "metadata": {},
   "outputs": [
    {
     "data": {
      "image/png": "[encoded data removed]",
      "text/plain": [
       "<Figure size 432x288 with 2 Axes>"
      ]
     },
     "metadata": {
      "needs_background": "light"
     },
     "output_type": "display_data"
    },
    {
     "name": "stdout",
     "output_type": "stream",
     "text": [
      "Accuracy: 0.7393822393822393\n",
      "              precision    recall  f1-score   support\n",
      "\n",
      "        Real       0.75      0.71      0.73       255\n",
      "        Fake       0.73      0.77      0.75       263\n",
      "\n",
      "    accuracy                           0.74       518\n",
      "   macro avg       0.74      0.74      0.74       518\n",
      "weighted avg       0.74      0.74      0.74       518\n",
      "\n"
     ]
    }
   ],
   "source": [
    "import matplotlib.pyplot as plt\n",
    "from sklearn.metrics import confusion_matrix, ConfusionMatrixDisplay, accuracy_score, classification_report\n",
    "import numpy as np\n",
    "\n",
    "# Evaluation\n",
    "model.eval()\n",
    "predictions = []\n",
    "true_labels = []\n",
    "\n",
    "for batch in eval_dataloader:\n",
    "    batch = {k: v.to(device) for k, v in batch.items()}\n",
    "    with torch.no_grad():\n",
    "        outputs = model(\n",
    "            input_ids=batch[\"input_ids\"],\n",
    "            attention_mask=batch[\"attention_mask\"],\n",
    "            url_features=batch[\"url_features\"]\n",
    "        )\n",
    "        preds = torch.argmax(outputs, dim=1)\n",
    "        predictions.extend(preds.cpu().numpy())\n",
    "        true_labels.extend(batch[\"labels\"].cpu().numpy())\n",
    "\n",
    "# Save predictions and true labels (optional)\n",
    "np.save(\"predictions_newsarticle.npy\", predictions)\n",
    "np.save(\"true_labels_newsarticle.npy\", true_labels)\n",
    "\n",
    "# Evaluation Metrics\n",
    "conf_matrix = confusion_matrix(true_labels, predictions, labels=[0, 1])\n",
    "disp = ConfusionMatrixDisplay(conf_matrix, display_labels=['Real', 'Fake'])\n",
    "disp.plot(cmap=plt.cm.Blues)\n",
    "plt.show()\n",
    "\n",
    "print(\"Accuracy:\", accuracy_score(true_labels, predictions))\n",
    "print(classification_report(true_labels, predictions, target_names=['Real', 'Fake']))"
   ]
  },
  {
   "cell_type": "code",
   "execution_count": null,
   "id": "0aaf6ec3",
   "metadata": {},
   "outputs": [],
   "source": []
  }
 ],
 "metadata": {
  "kernelspec": {
   "display_name": "Python 3 (ipykernel)",
   "language": "python",
   "name": "python3"
  },
  "language_info": {
   "codemirror_mode": {
    "name": "ipython",
    "version": 3
   },
   "file_extension": ".py",
   "mimetype": "text/x-python",
   "name": "python",
   "nbconvert_exporter": "python",
   "pygments_lexer": "ipython3",
   "version": "3.9.7"
  }
 },
 "nbformat": 4,
 "nbformat_minor": 5
}
