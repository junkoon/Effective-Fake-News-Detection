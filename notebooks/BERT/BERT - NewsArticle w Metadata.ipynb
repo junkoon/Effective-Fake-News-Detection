{
 "cells": [
  {
   "cell_type": "code",
   "execution_count": 1,
   "id": "8342042a-db17-404c-b768-e1b3f82dee17",
   "metadata": {},
   "outputs": [
    {
     "name": "stderr",
     "output_type": "stream",
     "text": [
      "C:\\Users\\Koon\\anaconda3\\envs\\GPU\\lib\\site-packages\\tqdm\\auto.py:21: TqdmWarning: IProgress not found. Please update jupyter and ipywidgets. See https://ipywidgets.readthedocs.io/en/stable/user_install.html\n",
      "  from .autonotebook import tqdm as notebook_tqdm\n"
     ]
    }
   ],
   "source": [
    "import pandas as pd\n",
    "import numpy as np\n",
    "import torch\n",
    "import torch.nn as nn\n",
    "import tldextract\n",
    "import matplotlib.pyplot as plt\n",
    "\n",
    "from sklearn.feature_extraction.text import TfidfVectorizer\n",
    "from sklearn.preprocessing import StandardScaler\n",
    "from sklearn.model_selection import train_test_split\n",
    "from sklearn.metrics import accuracy_score, classification_report\n",
    "from imblearn.over_sampling import SMOTE\n",
    "\n",
    "from transformers import BertTokenizer, BertForSequenceClassification\n",
    "from torch.utils.data import Dataset, DataLoader\n",
    "from tqdm import tqdm"
   ]
  },
  {
   "cell_type": "code",
   "execution_count": 2,
   "id": "2c30627a-85ae-4565-8a32-cc13795e65e5",
   "metadata": {},
   "outputs": [
    {
     "name": "stderr",
     "output_type": "stream",
     "text": [
      "C:\\Users\\Koon\\AppData\\Local\\Temp\\ipykernel_5888\\3854727154.py:17: SettingWithCopyWarning: \n",
      "A value is trying to be set on a copy of a slice from a DataFrame\n",
      "\n",
      "See the caveats in the documentation: https://pandas.pydata.org/pandas-docs/stable/user_guide/indexing.html#returning-a-view-versus-a-copy\n",
      "  data.dropna(subset=['title'], inplace=True)\n",
      "C:\\Users\\Koon\\AppData\\Local\\Temp\\ipykernel_5888\\3854727154.py:18: SettingWithCopyWarning: \n",
      "A value is trying to be set on a copy of a slice from a DataFrame.\n",
      "Try using .loc[row_indexer,col_indexer] = value instead\n",
      "\n",
      "See the caveats in the documentation: https://pandas.pydata.org/pandas-docs/stable/user_guide/indexing.html#returning-a-view-versus-a-copy\n",
      "  data['title'] = data['title'].astype(str)  # Ensure titles are strings\n"
     ]
    }
   ],
   "source": [
    "# Step 1: Load and Prepare Data\n",
    "news_data = pd.read_csv('data/news_articles_with_metadata.csv')  # Update with actual path\n",
    "\n",
    "# Drop unnecessary columns\n",
    "news_data = news_data.drop(columns=['author', 'published', 'text', 'language', 'main_img_url', 'type', \n",
    "                                    'title_without_stopwords', 'text_without_stopwords', 'hasImage'], errors='ignore')\n",
    "\n",
    "# Fix label inconsistencies\n",
    "news_data = news_data[news_data['label'].apply(lambda x: isinstance(x, str))]\n",
    "news_data['label'] = news_data['label'].replace('Realk', 'Real')  # Fix any typos\n",
    "\n",
    "# Convert labels: 1 for Fake, 0 for Real\n",
    "news_data['labels'] = news_data['label'].apply(lambda x: 1 if x.lower() == 'fake' else 0)\n",
    "\n",
    "# Keep only relevant columns\n",
    "data = news_data[['title', 'labels', 'site_url', 'meta_title', 'meta_description']]\n",
    "data.dropna(subset=['title'], inplace=True)\n",
    "data['title'] = data['title'].astype(str)  # Ensure titles are strings\n",
    "\n",
    "# Step 2: Extract URL Features\n",
    "def extract_url_features(url):\n",
    "    if pd.isna(url) or not isinstance(url, str):\n",
    "        return {'url_length': 0, 'has_query': 0, 'has_hyphens': 0, 'has_numbers': 0}\n",
    "    \n",
    "    ext = tldextract.extract(url)\n",
    "    return {\n",
    "        'url_length': len(url),\n",
    "        'has_query': 1 if '?' in url else 0,\n",
    "        'has_hyphens': 1 if '-' in url else 0,\n",
    "        'has_numbers': 1 if any(c.isdigit() for c in url) else 0,\n",
    "    }\n",
    "\n",
    "url_features = data['site_url'].apply(extract_url_features)\n",
    "url_features_df = pd.DataFrame(url_features.tolist())\n",
    "\n",
    "# Normalize URL features\n",
    "scaler = StandardScaler()\n",
    "url_features_scaled = pd.DataFrame(scaler.fit_transform(url_features_df), columns=url_features_df.columns)\n",
    "\n",
    "# Step 3: Vectorize Titles using TF-IDF\n",
    "vectorizer = TfidfVectorizer(max_features=5000)\n",
    "title_features_vectorized = vectorizer.fit_transform(data['title'] + ' ' + data['meta_title'].fillna('') + ' ' + data['meta_description'].fillna('')).toarray()\n",
    "\n",
    "# Step 4: Align Data\n",
    "min_length = min(len(title_features_vectorized), len(url_features_scaled))\n",
    "title_features_vectorized = title_features_vectorized[:min_length]\n",
    "url_features_scaled = url_features_scaled.iloc[:min_length]\n",
    "data = data.iloc[:min_length]\n",
    "\n"
   ]
  },
  {
   "cell_type": "code",
   "execution_count": 5,
   "id": "88cf91ea-09b2-45fa-a432-1300458a91e9",
   "metadata": {},
   "outputs": [
    {
     "name": "stderr",
     "output_type": "stream",
     "text": [
      "C:\\Users\\Koon\\anaconda3\\envs\\GPU\\lib\\site-packages\\sklearn\\base.py:474: FutureWarning: `BaseEstimator._validate_data` is deprecated in 1.6 and will be removed in 1.7. Use `sklearn.utils.validation.validate_data` instead. This function becomes public and is part of the scikit-learn developer API.\n",
      "  warnings.warn(\n"
     ]
    }
   ],
   "source": [
    "# Step 5: Apply SMOTE\n",
    "combined_features = np.hstack([title_features_vectorized, url_features_scaled])\n",
    "smote = SMOTE(random_state=42)\n",
    "X_resampled, y_resampled = smote.fit_resample(combined_features, data['labels'])\n",
    "\n",
    "# Step 6: Split Data into Training & Testing\n",
    "train_texts, test_texts, train_labels, test_labels, train_urls, test_urls = train_test_split(\n",
    "    X_resampled[:, :title_features_vectorized.shape[1]], \n",
    "    y_resampled, \n",
    "    X_resampled[:, title_features_vectorized.shape[1]:], \n",
    "    test_size=0.2, \n",
    "    random_state=42\n",
    ")\n",
    "\n",
    "# Convert labels and URL features to tensors\n",
    "train_labels = torch.tensor(train_labels.values, dtype=torch.long)\n",
    "test_labels = torch.tensor(test_labels.values, dtype=torch.long)\n",
    "train_urls = torch.tensor(train_urls, dtype=torch.float)\n",
    "test_urls = torch.tensor(test_urls, dtype=torch.float)"
   ]
  },
  {
   "cell_type": "code",
   "execution_count": 6,
   "id": "a1925ae1-c301-44b6-b7e5-560911bc6761",
   "metadata": {},
   "outputs": [],
   "source": [
    "# Step 7: Tokenize Text for BERT\n",
    "tokenizer = BertTokenizer.from_pretrained('bert-base-uncased')\n",
    "train_encodings = tokenizer(\n",
    "    [\" \".join(vectorizer.inverse_transform(text_row.reshape(1, -1))[0]) for text_row in train_texts],\n",
    "    truncation=True, padding=True, max_length=512, return_tensors=\"pt\"\n",
    ")\n",
    "test_encodings = tokenizer(\n",
    "    [\" \".join(vectorizer.inverse_transform(text_row.reshape(1, -1))[0]) for text_row in test_texts],\n",
    "    truncation=True, padding=True, max_length=512, return_tensors=\"pt\"\n",
    ")"
   ]
  },
  {
   "cell_type": "code",
   "execution_count": 7,
   "id": "171313b2-344d-4d40-af64-995c4fc5e012",
   "metadata": {},
   "outputs": [],
   "source": [
    "# Step 8: Custom Dataset Class\n",
    "class CombinedDataset(Dataset):\n",
    "    def __init__(self, encodings, labels, url_features):\n",
    "        self.encodings = encodings\n",
    "        self.labels = labels\n",
    "        self.url_features = url_features\n",
    "\n",
    "    def __len__(self):\n",
    "        return len(self.labels)\n",
    "\n",
    "    def __getitem__(self, idx):\n",
    "        item = {key: val[idx] for key, val in self.encodings.items()}\n",
    "        item['labels'] = self.labels[idx]\n",
    "        item['url_features'] = self.url_features[idx]\n",
    "        return item\n",
    "\n",
    "# Create datasets\n",
    "train_dataset = CombinedDataset(train_encodings, train_labels, train_urls)\n",
    "test_dataset = CombinedDataset(test_encodings, test_labels, test_urls)\n",
    "\n",
    "train_dataloader = DataLoader(train_dataset, batch_size=16, shuffle=True)\n",
    "eval_dataloader = DataLoader(test_dataset, batch_size=16)\n",
    "\n",
    "# Step 9: Define BertWithFeatures Model\n",
    "class BertWithFeatures(nn.Module):\n",
    "    def __init__(self, num_labels=2, url_feature_dim=4):  \n",
    "        super(BertWithFeatures, self).__init__()\n",
    "        self.bert = BertForSequenceClassification.from_pretrained(\"bert-base-uncased\", num_labels=num_labels)\n",
    "        self.url_fc = nn.Linear(url_feature_dim, 32)  \n",
    "        self.dropout = nn.Dropout(0.3)\n",
    "        self.fc = nn.Linear(32 + 768, num_labels)  \n",
    "\n",
    "    def forward(self, input_ids, attention_mask, url_features):\n",
    "        outputs = self.bert.bert(input_ids=input_ids, attention_mask=attention_mask)\n",
    "        pooled_output = outputs.pooler_output  \n",
    "\n",
    "        url_emb = torch.relu(self.url_fc(url_features))  \n",
    "        combined = torch.cat((pooled_output, url_emb), dim=1)  \n",
    "        combined = self.dropout(combined)\n",
    "        logits = self.fc(combined)\n",
    "        return logits\n"
   ]
  },
  {
   "cell_type": "code",
   "execution_count": 8,
   "id": "9e39d15e-3607-47e2-9766-86c2c1e99d19",
   "metadata": {},
   "outputs": [
    {
     "name": "stderr",
     "output_type": "stream",
     "text": [
      "Some weights of BertForSequenceClassification were not initialized from the model checkpoint at bert-base-uncased and are newly initialized: ['classifier.bias', 'classifier.weight']\n",
      "You should probably TRAIN this model on a down-stream task to be able to use it for predictions and inference.\n",
      "Epoch 1/5: 100%|██████████| 130/130 [00:07<00:00, 16.85it/s, loss=0.132]\n",
      "Epoch 2/5: 100%|██████████| 130/130 [00:07<00:00, 17.59it/s, loss=0.117] \n",
      "Epoch 3/5: 100%|██████████| 130/130 [00:07<00:00, 17.65it/s, loss=0.171]  \n",
      "Epoch 4/5: 100%|██████████| 130/130 [00:07<00:00, 17.60it/s, loss=0.00148]\n",
      "Epoch 5/5: 100%|██████████| 130/130 [00:07<00:00, 17.62it/s, loss=0.0119] \n"
     ]
    }
   ],
   "source": [
    "# Step 10: Train Model\n",
    "device = torch.device(\"cuda\") if torch.cuda.is_available() else torch.device(\"cpu\")\n",
    "model = BertWithFeatures().to(device)\n",
    "optimizer = torch.optim.AdamW(model.parameters(), lr=2e-5, weight_decay=0.01)\n",
    "\n",
    "num_epochs = 5\n",
    "loss_fct = nn.CrossEntropyLoss()\n",
    "\n",
    "for epoch in range(num_epochs):\n",
    "    model.train()\n",
    "    loop = tqdm(train_dataloader, leave=True)\n",
    "    for batch in loop:\n",
    "        batch = {k: v.to(device) for k, v in batch.items()}\n",
    "        \n",
    "        logits = model(batch['input_ids'], batch['attention_mask'], batch['url_features'])\n",
    "        loss = loss_fct(logits, batch['labels'])\n",
    "\n",
    "        optimizer.zero_grad()\n",
    "        loss.backward()\n",
    "        optimizer.step()\n",
    "\n",
    "        loop.set_description(f\"Epoch {epoch+1}/{num_epochs}\")\n",
    "        loop.set_postfix(loss=loss.item())"
   ]
  },
  {
   "cell_type": "code",
   "execution_count": 9,
   "id": "e729dcff-0259-4f28-9d13-2f6e5f83151c",
   "metadata": {},
   "outputs": [
    {
     "name": "stdout",
     "output_type": "stream",
     "text": [
      "Accuracy: 0.9073359073359073\n",
      "              precision    recall  f1-score   support\n",
      "\n",
      "        Real       0.88      0.94      0.91       255\n",
      "        Fake       0.94      0.87      0.91       263\n",
      "\n",
      "    accuracy                           0.91       518\n",
      "   macro avg       0.91      0.91      0.91       518\n",
      "weighted avg       0.91      0.91      0.91       518\n",
      "\n",
      "Model and tokenizer saved successfully!\n"
     ]
    }
   ],
   "source": [
    "# Step 11: Evaluate Model\n",
    "model.eval()\n",
    "predictions, true_labels = [], []\n",
    "for batch in eval_dataloader:\n",
    "    batch = {k: v.to(device) for k, v in batch.items()}\n",
    "    with torch.no_grad():\n",
    "        logits = model(batch['input_ids'], batch['attention_mask'], batch['url_features'])\n",
    "        preds = torch.argmax(logits, dim=1)\n",
    "        predictions.extend(preds.cpu().numpy())\n",
    "        true_labels.extend(batch[\"labels\"].cpu().numpy())\n",
    "\n",
    "# Display Metrics\n",
    "print(\"Accuracy:\", accuracy_score(true_labels, predictions))\n",
    "print(classification_report(true_labels, predictions, target_names=['Real', 'Fake']))\n",
    "\n",
    "# Save the model state dictionary\n",
    "model_save_path = \"optimal_bert_with_features_newsarticle.pth\"\n",
    "torch.save(model.state_dict(), model_save_path)\n",
    "\n",
    "# Save the tokenizer\n",
    "tokenizer_save_path = \"tokenizer\"\n",
    "tokenizer.save_pretrained(tokenizer_save_path)\n",
    "\n",
    "print(\"Model and tokenizer saved successfully!\")\n"
   ]
  }
 ],
 "metadata": {
  "kernelspec": {
   "display_name": "Python 3 (ipykernel)",
   "language": "python",
   "name": "python3"
  },
  "language_info": {
   "codemirror_mode": {
    "name": "ipython",
    "version": 3
   },
   "file_extension": ".py",
   "mimetype": "text/x-python",
   "name": "python",
   "nbconvert_exporter": "python",
   "pygments_lexer": "ipython3",
   "version": "3.9.18"
  }
 },
 "nbformat": 4,
 "nbformat_minor": 5
}
