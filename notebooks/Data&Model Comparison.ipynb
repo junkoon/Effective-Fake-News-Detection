{
 "cells": [
  {
   "cell_type": "code",
   "execution_count": 1,
   "id": "e58e2448",
   "metadata": {},
   "outputs": [
    {
     "name": "stdout",
     "output_type": "stream",
     "text": [
      "                     id                                           news_url  \\\n",
      "0  gossipcop-2493749932  www.dailymail.co.uk/tvshowbiz/article-5874213/...   \n",
      "1  gossipcop-4580247171  hollywoodlife.com/2018/05/05/paris-jackson-car...   \n",
      "2   gossipcop-941805037  variety.com/2017/biz/news/tax-march-donald-tru...   \n",
      "3  gossipcop-2547891536  www.dailymail.co.uk/femail/article-3499192/Do-...   \n",
      "4  gossipcop-5476631226  variety.com/2018/film/news/list-2018-oscar-nom...   \n",
      "\n",
      "                                               title  \\\n",
      "0  Did Miley Cyrus and Liam Hemsworth secretly ge...   \n",
      "1  Paris Jackson & Cara Delevingne Enjoy Night Ou...   \n",
      "2  Celebrities Join Tax March in Protest of Donal...   \n",
      "3  Cindy Crawford's daughter Kaia Gerber wears a ...   \n",
      "4      Full List of 2018 Oscar Nominations – Variety   \n",
      "\n",
      "                                           tweet_ids  label  \n",
      "0  284329075902926848\\t284332744559968256\\t284335...      1  \n",
      "1  992895508267130880\\t992897935418503169\\t992899...      1  \n",
      "2  853359353532829696\\t853359576543920128\\t853359...      1  \n",
      "3  988821905196158981\\t988824206556172288\\t988825...      1  \n",
      "4  955792793632432131\\t955795063925301249\\t955798...      1  \n"
     ]
    }
   ],
   "source": [
    "import pandas as pd\n",
    "# Load the fake and real news datasets\n",
    "fake_data = pd.read_csv('data/fake.csv')\n",
    "real_data = pd.read_csv('data/real.csv')\n",
    "\n",
    "# Add a label column: 1 for fake, 0 for real\n",
    "fake_data['label'] = 1\n",
    "real_data['label'] = 0\n",
    "\n",
    "# Combine both datasets\n",
    "news_data = pd.concat([fake_data, real_data], ignore_index=True)\n",
    "\n",
    "# Inspect the combined dataset\n",
    "print(news_data.head())"
   ]
  },
  {
   "cell_type": "code",
   "execution_count": 2,
   "id": "7655b6b7",
   "metadata": {},
   "outputs": [
    {
     "name": "stdout",
     "output_type": "stream",
     "text": [
      "                     id  tweet_count\n",
      "0  gossipcop-2493749932            1\n",
      "1  gossipcop-4580247171            1\n",
      "2   gossipcop-941805037            1\n",
      "3  gossipcop-2547891536            1\n",
      "4  gossipcop-5476631226            1\n"
     ]
    }
   ],
   "source": [
    "# Calculate the number of tweets for each article as a feature\n",
    "news_data['tweet_count'] = news_data['tweet_ids'].apply(lambda x: len(str(x).split(',')) if pd.notna(x) else 0)\n",
    "\n",
    "# Inspect the new feature\n",
    "print(news_data[['id', 'tweet_count']].head())"
   ]
  },
  {
   "cell_type": "code",
   "execution_count": 3,
   "id": "61bb8a75",
   "metadata": {},
   "outputs": [],
   "source": [
    "# import requests\n",
    "# from bs4 import BeautifulSoup\n",
    "\n",
    "# # Function to extract links from articles\n",
    "# def extract_links(url):\n",
    "#     if not url.startswith(('http://', 'https://')):\n",
    "#         url = 'http://' + url  # Add 'http://' if the schema is missing\n",
    "#     try:\n",
    "#         response = requests.get(url)\n",
    "#         response.raise_for_status()  # Check if the request was successful\n",
    "#         soup = BeautifulSoup(response.text, 'html.parser')\n",
    "#         links = [a.get('href') for a in soup.find_all('a', href=True)]\n",
    "#         return links\n",
    "#     except requests.exceptions.RequestException as e:\n",
    "#         print(f\"Error fetching {url}: {e}\")\n",
    "#         return []\n",
    "\n",
    "# news_data['links'] = news_data['news_url'].apply(extract_links)\n"
   ]
  },
  {
   "cell_type": "code",
   "execution_count": 4,
   "id": "3033ece0",
   "metadata": {},
   "outputs": [
    {
     "name": "stdout",
     "output_type": "stream",
     "text": [
      "                 domain  credibility_score  label\n",
      "0                                      0.0      1\n",
      "1                                      0.0      1\n",
      "2                                      0.0      1\n",
      "3                                      0.0      1\n",
      "4                                      0.0      1\n",
      "...                 ...                ...    ...\n",
      "23418  flake.senate.gov                1.0      0\n",
      "23419   web.archive.org                0.0      0\n",
      "23420       youtube.com                1.0      0\n",
      "23421       youtube.com                1.0      0\n",
      "23422   web.archive.org                0.0      0\n",
      "\n",
      "[23423 rows x 3 columns]\n"
     ]
    }
   ],
   "source": [
    "from urllib.parse import urlparse\n",
    "\n",
    "# Define trusted and fake domains lists, all in lowercase for consistency\n",
    "trusted_domains = [\n",
    "    'brides.com', 'dailymail.co.uk', 'en.wikipedia.org', 'refinery29.com', 'tech2.org',\n",
    "    'tvline.com', 'fashionmagazine.com', 'decider.com', 'criticschoice.com', 'people.com',\n",
    "    'bravotv.com', 'theworldnews.net', 'vibe.com', 'cbsnews.com', 'usmagazine.com',\n",
    "    'indiewire.com', 'w3livenews.com', 'celebritymaximum.com', 'thepoliticsforums.com',\n",
    "    'cosmopolitan.com', 'harpersbazaar.com', 'tlcnaptown.com', 'globalnews.ca', 'zmonline.com',\n",
    "    'esquire.com', 'variety.com', 'hellogiggles.com', 'vogue.com', 'article.wn.com',\n",
    "    'today.com', 'wstale.com', 'complex.com', 'teenvogue.com', 'rarolae.com', 'trashtalktv.com',\n",
    "    'notatkigeeka.pl', 'stuff.co.nz', 'thefashionspot.com', 'onairwithryan.iheart.com',\n",
    "    'instyle.com', 'thewrap.com', 'trueara.com', 'aol.com', 'mensjournal.com', 'nextdivas.com',\n",
    "    'nme.com', 'wellandgood.com', 'elle.com', 'seventeen.com', 'pennews.pencidesign.com',\n",
    "    'upi.com', 'msn.com', 'express.co.uk', 'independent.ie', 'etonline.com', 'musicrow.com',\n",
    "    'wsj.com', 'longroom.com', 'theguardian.com', 'perezhilton.com', 'nbc.com', 'ew.com',\n",
    "    'newmediasearch.com', 'elle.com.au', 'celebrityinsider.org', 'glamour.com', 'hotnewhiphop.com',\n",
    "    'byrdie.com', 'maneaddicts.com', 'kartiavelino.com', 'extratv.com', 'beautycrew.com.au',\n",
    "    'indianexpress.com', 'thisisinsider.com', 'girlsunlimited.org', 'offthegrid.media',\n",
    "    'uk.businessinsider.com', 'mirror.co.uk', 'altpress.com', 'fool.com', 'theknotnews.com',\n",
    "    'vanityfair.com', 'gaytimes.co.uk', 'biphoo.com', 'sacculturalhub.com', 'storiesflow.com',\n",
    "    'forbes.com', 'aceshowbiz.com', 'brit.co', 'thinkprogress.org', 'guidelive.com', 'ranker.com',\n",
    "    'toofab.com', 'abcnews.go.com', 'soundbooks.org', 'yahoo.com', 'cmch.tv',\n",
    "    'acriticalreviewofthehelp.wordpress.com', 'kisscasper.com', 'nickiswift.com', 'statista.com',\n",
    "    'tmz.com', 'inglewoodtoday.com', 'gossipbucket.com', 'etcanada.com', 'quora.com',\n",
    "    'thedailybeast.com', 'pressparty.com', 'startribune.com', 'scoopnest.com', 'metro.co.uk',\n",
    "    'mic.com', 'bet.com', 'hollywoodlife.com', 'vox.com', 'deadline.com', 'modbee.com',\n",
    "    'tvovermind.com', 'zerchoo.com', 'famousfix.com', 'news.com.au', 'neuzd.wordpress.com',\n",
    "    'simplemost.com', 'nydailynews.com', 'billboard.com', 'popsugar.com', 'travelandleisure.com',\n",
    "    'steemit.com', 'indy100.com', 'fox.com', 'mcall.com', 'rollingout.com', 'tvguide.com',\n",
    "    'huffingtonpost.ca', 'oxygen.com', 'popculture.com', 'ibtimes.co.uk', 'justjared.com',\n",
    "    'parkerxl.com', 'huffingtonpost.com', 'moviefone.com', 'helloglow.co', 'onecountry.com',\n",
    "    'worldnews.easybranches.com', 'etalk.ca', 'dailynews.news', 'intouchweekly.com',\n",
    "    'biography.com', 'broadwayworld.com', 'timesnownews.com', 'freep.com', 'townandcountrymag.com',\n",
    "    'sbnation.com', 'canoe.com', 'gq-magazine.co.uk', 'celebritynetworth.com', 'intomore.com',\n",
    "    'dailystar.co.uk', 'pagesix.com', 'tawonmakanapa.dadli.mobi', '951wayv.com', 'onenewspage.com',\n",
    "    'vogue.co.uk', 'news9ontime.com', 'liveindex.co.uk', 'celebsnow.co.uk', 'grazia.com.au',\n",
    "    'bustle.com', 'patriotswire.usatoday.com', 'entertainment.ie', 'hellobeautiful.com',\n",
    "    'supernewsworld.com', 'allabouttrh.com', 'hauteresidence.com', 'tvinsider.com', 'newslocker.com',\n",
    "    'bojtv.com', 'abc.go.com', 'thrillist.com', 'amazon.com', 'emmys.com', 'cheatsheet.com',\n",
    "    'vulture.com', 'timesofindia.indiatimes.com', 'celebrity.nine.com.au', 'hollywood.com',\n",
    "    'cinemablend.com', 'ncaa.com', 'yourtango.com', 'omgcheckitout.com', 'mashable.com',\n",
    "    'thesun.co.uk', 'yellownetwork.net', 'ohnotheydidnt.livejournal.com', 'kopitiambot.com',\n",
    "    'adweek.com', 'hindustantimes.com', 'abcnewsradioonline.com', 'ibtimes.com', 'her.ie',\n",
    "    'whowhatwear.com', 'telegraph.co.uk', 'radaronline.com', 'getleashedmag.com', 'thecut.com',\n",
    "    'wopular.com', 'winteriscoming.net', 'fastcompany.com', 'ktvb.com', 'vividseats.com',\n",
    "    'automaticblogging.com', 'npr.org', 'comicbook.com', 'tweetchat.com', 'littlethings.com',\n",
    "    'jonalisblog.com', 'austin360.com', 'nowtolove.com.au', 'radiotimes.com', 'purewow.com',\n",
    "    'bbc.co.uk', 'en.paperblog.com', 'howtogeek.com', 'newsobserver.com', 'kidspot.com.au',\n",
    "    'who.com.au', 'famousbirthdays.com', 'chicagotribune.com', 'newschamber.com', 'rare.us',\n",
    "    'articlebio.com', 'thetalko.com', 'efair.tv', 'eurweb.com', 'psychologytoday.com',\n",
    "    'thatgrapejuice.net', 'reuters.com', 'zig.com', 'ny.eater.com', 'mother.ly', 'fashionista.com',\n",
    "    'pbs.org', 'flickr.com', 'foodnetwork.com', 'wqfak.co', 'elitedaily.com', 'hbo.com',\n",
    "    'wkyc.com', 'endofound.org', 'blockislandorganics.com', 'sescoops.com', 'pastemagazine.com',\n",
    "    'thereal.com', 'azcentral.com', 'hotlifestylenews.com', 'expatwoman.com', 'news.sky.com',\n",
    "    'livestrong.com', 'digitaltrends.com', 'goodhousekeeping.com', 'wgntv.com', 'us.hola.com',\n",
    "    'theedge.co.nz', 'm.channel24.co.za', 'www1.cbn.com', 'hellomagazine.com', 'rap-up.com',\n",
    "    'delish.com', 'wmagazine.com', 'collider.com', 'nova969.com.au', 'champagneandshade.com',\n",
    "    'chicago.suntimes.com', 'news5cleveland.com', 'studybreaks.com', 'nbcphiladelphia.com',\n",
    "    'scoopwhoop.com', 'closerweekly.com', 'papermag.com', 'avclub.com', 'buycelebrityclothes.com',\n",
    "    'screenrant.com', 'architecturaldigest.com', 'fuse.tv', 'superbhub.com', 'dnaindia.com',\n",
    "    'dailydings.com', 'instylemag.com.au', 'allure.com', 'j-14.com', 'buzznews.co.uk',\n",
    "    'newbeauty.com', 'abcactionnews.com', 'money.cnn.com', 'capitalxtra.com', 'cbssports.com',\n",
    "    'highlighthollywood.com', 'usanetwork.com', 'huntpoll.com', 'philipayler.com', 'reddit.com',\n",
    "    'skinnyms.com', 'powerslc.com', 'multichannel.com', 'wonderwall.com', 'newnownext.com',\n",
    "    'archyworldys.com', 'usweekly.com', 'ewn.co.za', 'io9.gizmodo.com', 'mtv.com', 'inquisitr.com',\n",
    "    'babble.com', 'quemas.mamaslatinas.com', 'reviewjournal.com', 'news.iheart.com', 'pride.com',\n",
    "    'standard.co.uk', 'accessonline.com', 'mydomaine.com', 'insideedition.com', 'glamourmagazine.co.uk',\n",
    "    'thedoctorstv.com', 'junkee.com', 'hgtv.com', 'sidereel.com', 'thehollywoodunlocked.com',\n",
    "    'resetera.com', 'floor8.com', 'the100-news.tumblr.com','youtube.com','flake.senate.gov'\n",
    "]\n",
    "\n",
    "fake_domains = [\n",
    "    'howafrica.com', 'washingtonsources.org', 'blogs.trendolizer.com', 'web.archive.org',\n",
    "    'beforeitsnews.com', 'yournewswire.com', 'dailyfeed.news', 'therightists.com', 'breitbart.com',\n",
    "    'politico.com', 'nrtonline.info', 'independent.co.uk', 'puppetstringnews.com', 'newsbreakshere.com',\n",
    "    'quickening-spirit.com', 'pegida.trendolizer.com', 'econewsmedia.org', 'londonwebnews.com',\n",
    "    'politicot.com', 'nyeveningnews.com', 'ravinderbhalla.com', 'newslo.com', 'sentinelksmo.org',\n",
    "    'lidblog.com', 'now8news.com', 'mysteriousearth.club', 'exclusive103.com', 'emsnews.wordpress.com',\n",
    "    'nbcnews.com', 'facebook.com', 'teddystick.com', 'dailyworldupdate.us', 'flashnewss.club',\n",
    "    'react365.com', 'eveningw.com', 'hotgazette.com', 'nyfoxnews.co', 'newsdonaldtrumps.com',\n",
    "    'sciencevibe.com', 'medium.com', 'chicagosuntimes.live', 'theglobalheadlines.net', 'patriotcrier.com',\n",
    "    'americannews.com', 'trendolizer.com', 'bluedotdaily.com', 'maga2020.us', 'conservativetown.com',\n",
    "    'viraldevil.com', 'tdtalliance.com', 'empiresports.co', 'youtube.com', 'usamirrornews.com',\n",
    "    'halfwaypost.com', 'pewtrusts.org', 'bbc.com', 'reflectionofmind.org', 'wkrg.com', 'viralwdc.site',\n",
    "    'notallowedto.com', 'nypost.com', 'conservativestories.com', 'conservativedailypost.com',\n",
    "    'politifact.com', 'realtimepolitics.com', 'portalstate.com', 'uspostman.com', 'jumboreport.com',\n",
    "    'washingtonpost.com', 'theseattletribune.com', 'majorthoughts.com', 'realnewsrightnow.com',\n",
    "    'thegatewaypundit.com', 'me.me', 'twitter.com', 'politicsdepot.com', 'viraltruthwire.com',\n",
    "    'rip.trendolizer.com', 'politifeed.net', 'usnews.com', 'smag31.com', 'viralactions.com',\n",
    "    'thecommonsenseshow.com', 'babylonbee.com', 'fellowshipoftheminds.com', 'truthexam.com',\n",
    "    'politicalmayhem.news', 'rollingstone.com', 'usleader.net', 'mainerepublicemailalert.com',\n",
    "    'nymag.com', 'ourvoiceny.com', 'freeinfomedia.com', 'usawatchdog.com', 'gellerreport.com',\n",
    "    'lovethispic.com', 'smartmindmag.com', 'sfchronicle.com', 'cpsc.gov', 'proxywhore.com',\n",
    "    'neon-nettle.com', 'alternativemediasyndicate.com', 'flashnewscorner.com', 'channel24news.com',\n",
    "    'usanews24h.tk', 'wesupportdonaldtrump.com', 'thelifebuzz.com', 'foxnews.com', 'disaster.trendolizer.com',\n",
    "    'nytimes.com', 'usa24info.com', 'fda.gov', 'activistmommy.com', 'alison-jackson.co.uk',\n",
    "    'twentyeightmay.pw', '24trueinfoamerica.com', 'usalibertypress.com', 'unseen-pedia.com',\n",
    "    'cvikas.com', 'freedomdaily.com', 'worldfactsftw.com', 'cnn.com', 'patriotnetwork.one',\n",
    "    'conservative7.com', 'justice.gov', 'forfreedomworld.com', 'usbreakingnews.net', 'revolutionradio.org',\n",
    "    'empirenews.net', 'houstonpost.co', 'usatoday.com', 'wilmingtonfilm.com', 'proudleader.com',\n",
    "    'projectrepublictoday.com', 'helloforos.com', 'observeronline.news', 'obama.trendolizer.com',\n",
    "    'madworldnews.com', 'politicono.com', 'unilad.co.uk', 'huzlers.com', 'proconservativenews.com',\n",
    "    'redstatewave.com', 'occupydemocrats.com', 'inverse.com', 'inspiringday.com', 'pix11.com',\n",
    "    'time.com', 'inshapetoday.com', 'breakingnews247.net', 'redstatewatcher.com', 'newsuptoday.com',\n",
    "    'info.nct.news', 'libertyheadlines.com', 'whathappensintheusa.com', 'businessinsider.com',\n",
    "    'breaking13news.com', 'dailyheadlines.net', 'americatb.com', 'masscops.com', 'zimbabwe-today.com',\n",
    "    'news.antiwar.com', 'conservativepost.com', 'blingnews.com', 'theverge.com', 'news.groopspeak.com',\n",
    "    '100percentfedup.com', 'infowars.com', 'newscats.org', 'wrpm33.com', 'tmzbreaking.com',\n",
    "    'www2.alabamavotes.gov', 'theeconomiccollapseblog.com', 'geopolitica.ru', 'dailynative.us',\n",
    "    'thegoldwater.com', 'mysterious-times.com', 'actionnews3.com', 'trueamericans.me', 'wazanews.tk',\n",
    "    'zerohedge.com', 'archives.gov', 'conservative-headlines.com', 'opreminfo.com', 'washingtonpress.com',\n",
    "    'thebreakingdawn.site', 'christmasdailygifts.info', 'usanewstoday.org', 'maxipolitics.com',\n",
    "    'boingboing.net', 'hollywoodreporter.com', 'fox5dc.com', 'newsfeedusa.us', 'newstarget.com',\n",
    "    'someonesbones.com', 'rearfront.com', 'duffelblog.com', 'diamondandsilk.americandailynews.org',\n",
    "    'nowtrump.com', 'nytiwes.com', 'apnews.com', 'bitcoingrower.life', 'ladylibertysnews.com',\n",
    "    'trainnews.info', 'miamipost.co', 'americanproud.info', 'thehill.com', 'archive.is'\n",
    "]\n",
    "\n",
    "# Function to extract domain from URL and convert to lowercase\n",
    "def get_domain(url):\n",
    "    try:\n",
    "        parsed_url = urlparse(url)\n",
    "        domain = parsed_url.netloc.lower()\n",
    "        if domain.startswith('www.'):\n",
    "            domain = domain[4:]\n",
    "        return domain\n",
    "    except Exception as e:\n",
    "        print(f\"Error parsing URL {url}: {e}\")\n",
    "        return 'unknown'\n",
    "\n",
    "# Function to assign credibility score\n",
    "def assign_credibility_score(domain):\n",
    "    if domain in trusted_domains:\n",
    "        return 1.0\n",
    "    elif domain in fake_domains:\n",
    "        return 0.0\n",
    "    else:\n",
    "        return 0  # For unknown or unlisted domains\n",
    "\n",
    "# Extract domain and assign credibility scores\n",
    "news_data['domain'] = news_data['news_url'].apply(lambda url: get_domain(url) if pd.notna(url) else 'unknown')\n",
    "news_data['credibility_score'] = news_data['domain'].apply(assign_credibility_score)\n",
    "\n",
    "# Display some of the credibility scores for verification\n",
    "print(news_data[['domain', 'credibility_score','label']])\n"
   ]
  },
  {
   "cell_type": "code",
   "execution_count": 5,
   "id": "3bf17806",
   "metadata": {},
   "outputs": [
    {
     "name": "stdout",
     "output_type": "stream",
     "text": [
      "       label            domain\n",
      "0          1                  \n",
      "1          1                  \n",
      "2          1                  \n",
      "3          1                  \n",
      "4          1                  \n",
      "...      ...               ...\n",
      "23418      0  flake.senate.gov\n",
      "23419      0   web.archive.org\n",
      "23420      0       youtube.com\n",
      "23421      0       youtube.com\n",
      "23422      0   web.archive.org\n",
      "\n",
      "[23423 rows x 2 columns]\n"
     ]
    },
    {
     "data": {
      "image/png": "[encoded data removed]",
      "text/plain": [
       "<Figure size 432x288 with 2 Axes>"
      ]
     },
     "metadata": {
      "needs_background": "light"
     },
     "output_type": "display_data"
    }
   ],
   "source": [
    "import seaborn as sns\n",
    "import matplotlib.pyplot as plt\n",
    "\n",
    "# Correlation heatmap: Visualizing correlation between numeric features\n",
    "print(news_data[['label', 'domain']])\n",
    "# Plot a heatmap for correlation\n",
    "correlation = news_data[['credibility_score', 'label']].corr()\n",
    "sns.heatmap(correlation, annot=True, cmap=\"coolwarm\", fmt=\".2f\")\n",
    "plt.title(\"Correlation Heatmap\")\n",
    "plt.show()\n",
    "\n",
    "#Indicates a moderate negative relationship. \n",
    "#as the credibility_score decreases,  the probability of a news item being labeled as \"fake\" increases"
   ]
  },
  {
   "cell_type": "code",
   "execution_count": 6,
   "id": "bb16aaf3",
   "metadata": {},
   "outputs": [
    {
     "name": "stdout",
     "output_type": "stream",
     "text": [
      "Feature matrix shape: (23423, 1001)\n"
     ]
    }
   ],
   "source": [
    "from sklearn.feature_extraction.text import TfidfVectorizer\n",
    "\n",
    "# Apply TF-IDF on the 'title' column\n",
    "tfidf_vectorizer = TfidfVectorizer(max_features=1000)\n",
    "X_text = tfidf_vectorizer.fit_transform(news_data['title'].fillna(''))\n",
    "\n",
    "# Combine features: text TF-IDF, tweet count, and credibility score\n",
    "import numpy as np\n",
    "\n",
    "# Get the tweet count and credibility score as arrays\n",
    "\n",
    "#X_tweet_count = news_data['tweet_count'].values.reshape(-1, 1)\n",
    "X_credibility = news_data['credibility_score'].values.reshape(-1, 1)\n",
    "\n",
    "# Combine all features into one matrix\n",
    "X = np.hstack((X_text.toarray(),  X_credibility)) #X_tweet_count,\n",
    "y = news_data['label'].values\n",
    "\n",
    "# Check the shape of the feature matrix\n",
    "print(\"Feature matrix shape:\", X.shape)"
   ]
  },
  {
   "cell_type": "code",
   "execution_count": 7,
   "id": "c13e8ac0",
   "metadata": {},
   "outputs": [
    {
     "name": "stdout",
     "output_type": "stream",
     "text": [
      "Training set size: (18738, 1001)\n",
      "Testing set size: (4685, 1001)\n"
     ]
    }
   ],
   "source": [
    "from sklearn.model_selection import train_test_split\n",
    "\n",
    "# Split data into training and testing sets\n",
    "X_train, X_test, y_train, y_test = train_test_split(X, y, test_size=0.2, random_state=42)\n",
    "\n",
    "print(\"Training set size:\", X_train.shape)\n",
    "print(\"Testing set size:\", X_test.shape)"
   ]
  },
  {
   "cell_type": "code",
   "execution_count": 8,
   "id": "e948c1c5",
   "metadata": {},
   "outputs": [
    {
     "data": {
      "text/plain": [
       "LogisticRegression(max_iter=1000)"
      ]
     },
     "execution_count": 8,
     "metadata": {},
     "output_type": "execute_result"
    }
   ],
   "source": [
    "from sklearn.linear_model import LogisticRegression\n",
    "\n",
    "# Initialize and train the Logistic Regression model\n",
    "clf = LogisticRegression(max_iter=1000)\n",
    "clf.fit(X_train, y_train)"
   ]
  },
  {
   "cell_type": "code",
   "execution_count": 9,
   "id": "72d12635",
   "metadata": {},
   "outputs": [
    {
     "name": "stdout",
     "output_type": "stream",
     "text": [
      "Accuracy: 0.8890074706510138\n",
      "              precision    recall  f1-score   support\n",
      "\n",
      "           0       0.91      0.94      0.93      3521\n",
      "           1       0.80      0.73      0.77      1164\n",
      "\n",
      "    accuracy                           0.89      4685\n",
      "   macro avg       0.86      0.84      0.85      4685\n",
      "weighted avg       0.89      0.89      0.89      4685\n",
      "\n"
     ]
    },
    {
     "data": {
      "image/png": "[encoded data removed]",
      "text/plain": [
       "<Figure size 432x288 with 2 Axes>"
      ]
     },
     "metadata": {
      "needs_background": "light"
     },
     "output_type": "display_data"
    }
   ],
   "source": [
    "from sklearn.metrics import accuracy_score, classification_report, confusion_matrix\n",
    "import seaborn as sns\n",
    "import matplotlib.pyplot as plt\n",
    "\n",
    "# Predict on the test set\n",
    "y_pred = clf.predict(X_test)\n",
    "\n",
    "# Accuracy\n",
    "accuracy = accuracy_score(y_test, y_pred)\n",
    "print(f\"Accuracy: {accuracy}\")\n",
    "\n",
    "# Classification report\n",
    "print(classification_report(y_test, y_pred))\n",
    "\n",
    "# Confusion matrix\n",
    "conf_matrix = confusion_matrix(y_test, y_pred)\n",
    "sns.heatmap(conf_matrix, annot=True, fmt=\"d\", cmap=\"Blues\")\n",
    "plt.xlabel(\"Predicted\")\n",
    "plt.ylabel(\"Actual\")\n",
    "plt.show()"
   ]
  },
  {
   "cell_type": "code",
   "execution_count": 10,
   "id": "1b958f9b",
   "metadata": {},
   "outputs": [
    {
     "name": "stdout",
     "output_type": "stream",
     "text": [
      "Random Forest Accuracy: 0.8866595517609391\n",
      "              precision    recall  f1-score   support\n",
      "\n",
      "           0       0.91      0.95      0.93      3521\n",
      "           1       0.82      0.70      0.75      1164\n",
      "\n",
      "    accuracy                           0.89      4685\n",
      "   macro avg       0.86      0.82      0.84      4685\n",
      "weighted avg       0.88      0.89      0.88      4685\n",
      "\n"
     ]
    }
   ],
   "source": [
    "from sklearn.ensemble import RandomForestClassifier\n",
    "\n",
    "# Train a Random Forest model\n",
    "clf_rf = RandomForestClassifier(n_estimators=100, random_state=42)\n",
    "clf_rf.fit(X_train, y_train)\n",
    "\n",
    "# Predict and evaluate\n",
    "y_pred_rf = clf_rf.predict(X_test)\n",
    "print(\"Random Forest Accuracy:\", accuracy_score(y_test, y_pred_rf))\n",
    "print(classification_report(y_test, y_pred_rf))"
   ]
  },
  {
   "cell_type": "code",
   "execution_count": 11,
   "id": "6bccb681",
   "metadata": {},
   "outputs": [
    {
     "name": "stdout",
     "output_type": "stream",
     "text": [
      "Logistic Regression Accuracy: 0.8890074706510138\n",
      "              precision    recall  f1-score   support\n",
      "\n",
      "           0       0.91      0.94      0.93      3521\n",
      "           1       0.80      0.73      0.77      1164\n",
      "\n",
      "    accuracy                           0.89      4685\n",
      "   macro avg       0.86      0.84      0.85      4685\n",
      "weighted avg       0.89      0.89      0.89      4685\n",
      "\n"
     ]
    }
   ],
   "source": [
    "from sklearn.linear_model import LogisticRegression\n",
    "from sklearn.metrics import accuracy_score, classification_report\n",
    "\n",
    "# Train a Logistic Regression model\n",
    "clf_lr = LogisticRegression(max_iter=1000, random_state=42)\n",
    "clf_lr.fit(X_train, y_train)\n",
    "\n",
    "# Predict and evaluate\n",
    "y_pred_lr = clf_lr.predict(X_test)\n",
    "print(\"Logistic Regression Accuracy:\", accuracy_score(y_test, y_pred_lr))\n",
    "print(classification_report(y_test, y_pred_lr))"
   ]
  },
  {
   "cell_type": "code",
   "execution_count": 12,
   "id": "0de9db42",
   "metadata": {},
   "outputs": [
    {
     "name": "stdout",
     "output_type": "stream",
     "text": [
      "SVM Accuracy: 0.8860192102454643\n",
      "              precision    recall  f1-score   support\n",
      "\n",
      "           0       0.91      0.94      0.93      3521\n",
      "           1       0.80      0.72      0.76      1164\n",
      "\n",
      "    accuracy                           0.89      4685\n",
      "   macro avg       0.86      0.83      0.84      4685\n",
      "weighted avg       0.88      0.89      0.88      4685\n",
      "\n"
     ]
    }
   ],
   "source": [
    "from sklearn.svm import SVC\n",
    "\n",
    "# Train a Support Vector Machine model\n",
    "clf_svm = SVC(kernel='linear', random_state=42)\n",
    "clf_svm.fit(X_train, y_train)\n",
    "\n",
    "# Predict and evaluate\n",
    "y_pred_svm = clf_svm.predict(X_test)\n",
    "print(\"SVM Accuracy:\", accuracy_score(y_test, y_pred_svm))\n",
    "print(classification_report(y_test, y_pred_svm))\n"
   ]
  },
  {
   "cell_type": "code",
   "execution_count": 13,
   "id": "1053ea32",
   "metadata": {},
   "outputs": [
    {
     "name": "stdout",
     "output_type": "stream",
     "text": [
      "Neural Network Accuracy: 0.8779082177161153\n",
      "              precision    recall  f1-score   support\n",
      "\n",
      "           0       0.92      0.92      0.92      3521\n",
      "           1       0.76      0.75      0.75      1164\n",
      "\n",
      "    accuracy                           0.88      4685\n",
      "   macro avg       0.84      0.83      0.84      4685\n",
      "weighted avg       0.88      0.88      0.88      4685\n",
      "\n"
     ]
    }
   ],
   "source": [
    "from sklearn.neural_network import MLPClassifier\n",
    "\n",
    "# Train a Neural Network model\n",
    "clf_nn = MLPClassifier(hidden_layer_sizes=(100,), max_iter=1000, random_state=42)\n",
    "clf_nn.fit(X_train, y_train)\n",
    "\n",
    "# Predict and evaluate\n",
    "y_pred_nn = clf_nn.predict(X_test)\n",
    "print(\"Neural Network Accuracy:\", accuracy_score(y_test, y_pred_nn))\n",
    "print(classification_report(y_test, y_pred_nn))\n"
   ]
  },
  {
   "cell_type": "code",
   "execution_count": 14,
   "id": "cf4a753f",
   "metadata": {},
   "outputs": [
    {
     "name": "stdout",
     "output_type": "stream",
     "text": [
      "Naive Bayes Accuracy: 0.8704375667022412\n",
      "              precision    recall  f1-score   support\n",
      "\n",
      "           0       0.87      0.98      0.92      3521\n",
      "           1       0.88      0.55      0.68      1164\n",
      "\n",
      "    accuracy                           0.87      4685\n",
      "   macro avg       0.88      0.76      0.80      4685\n",
      "weighted avg       0.87      0.87      0.86      4685\n",
      "\n"
     ]
    }
   ],
   "source": [
    "from sklearn.naive_bayes import MultinomialNB\n",
    "\n",
    "# Train a Naive Bayes model\n",
    "clf_nb = MultinomialNB()\n",
    "clf_nb.fit(X_train, y_train)\n",
    "\n",
    "# Predict and evaluate\n",
    "y_pred_nb = clf_nb.predict(X_test)\n",
    "print(\"Naive Bayes Accuracy:\", accuracy_score(y_test, y_pred_nb))\n",
    "print(classification_report(y_test, y_pred_nb))\n"
   ]
  },
  {
   "cell_type": "code",
   "execution_count": 15,
   "id": "4d573f22",
   "metadata": {},
   "outputs": [
    {
     "name": "stdout",
     "output_type": "stream",
     "text": [
      "Passive Aggressive Classifier Accuracy: 0.8740661686232657\n",
      "              precision    recall  f1-score   support\n",
      "\n",
      "           0       0.90      0.93      0.92      3521\n",
      "           1       0.77      0.70      0.73      1164\n",
      "\n",
      "    accuracy                           0.87      4685\n",
      "   macro avg       0.84      0.81      0.83      4685\n",
      "weighted avg       0.87      0.87      0.87      4685\n",
      "\n"
     ]
    }
   ],
   "source": [
    "from sklearn.linear_model import PassiveAggressiveClassifier\n",
    "\n",
    "# Train a Passive Aggressive Classifier\n",
    "clf_pa = PassiveAggressiveClassifier(max_iter=1000, random_state=42)\n",
    "clf_pa.fit(X_train, y_train)\n",
    "\n",
    "# Predict and evaluate\n",
    "y_pred_pa = clf_pa.predict(X_test)\n",
    "print(\"Passive Aggressive Classifier Accuracy:\", accuracy_score(y_test, y_pred_pa))\n",
    "print(classification_report(y_test, y_pred_pa))\n"
   ]
  },
  {
   "cell_type": "code",
   "execution_count": 16,
   "id": "7f1129cd",
   "metadata": {},
   "outputs": [
    {
     "name": "stdout",
     "output_type": "stream",
     "text": [
      "Training and evaluating Random Forest...\n",
      "Metrics for Random Forest:\n",
      "              precision    recall  f1-score   support\n",
      "\n",
      "           0       0.91      0.95      0.93      3521\n",
      "           1       0.82      0.70      0.75      1164\n",
      "\n",
      "    accuracy                           0.89      4685\n",
      "   macro avg       0.86      0.82      0.84      4685\n",
      "weighted avg       0.88      0.89      0.88      4685\n",
      "\n",
      "Training and evaluating Logistic Regression...\n",
      "Metrics for Logistic Regression:\n",
      "              precision    recall  f1-score   support\n",
      "\n",
      "           0       0.91      0.94      0.93      3521\n",
      "           1       0.80      0.73      0.77      1164\n",
      "\n",
      "    accuracy                           0.89      4685\n",
      "   macro avg       0.86      0.84      0.85      4685\n",
      "weighted avg       0.89      0.89      0.89      4685\n",
      "\n",
      "Training and evaluating SVM...\n",
      "Metrics for SVM:\n",
      "              precision    recall  f1-score   support\n",
      "\n",
      "           0       0.91      0.94      0.93      3521\n",
      "           1       0.80      0.72      0.76      1164\n",
      "\n",
      "    accuracy                           0.89      4685\n",
      "   macro avg       0.86      0.83      0.84      4685\n",
      "weighted avg       0.88      0.89      0.88      4685\n",
      "\n",
      "Training and evaluating Neural Network...\n",
      "Metrics for Neural Network:\n",
      "              precision    recall  f1-score   support\n",
      "\n",
      "           0       0.92      0.92      0.92      3521\n",
      "           1       0.76      0.75      0.75      1164\n",
      "\n",
      "    accuracy                           0.88      4685\n",
      "   macro avg       0.84      0.83      0.84      4685\n",
      "weighted avg       0.88      0.88      0.88      4685\n",
      "\n",
      "Training and evaluating Naive Bayes...\n",
      "Metrics for Naive Bayes:\n",
      "              precision    recall  f1-score   support\n",
      "\n",
      "           0       0.87      0.98      0.92      3521\n",
      "           1       0.88      0.55      0.68      1164\n",
      "\n",
      "    accuracy                           0.87      4685\n",
      "   macro avg       0.88      0.76      0.80      4685\n",
      "weighted avg       0.87      0.87      0.86      4685\n",
      "\n",
      "Training and evaluating Passive Aggressive Classifier...\n",
      "Metrics for Passive Aggressive Classifier:\n",
      "              precision    recall  f1-score   support\n",
      "\n",
      "           0       0.90      0.93      0.92      3521\n",
      "           1       0.77      0.70      0.73      1164\n",
      "\n",
      "    accuracy                           0.87      4685\n",
      "   macro avg       0.84      0.81      0.83      4685\n",
      "weighted avg       0.87      0.87      0.87      4685\n",
      "\n"
     ]
    },
    {
     "data": {
      "image/png": "[encoded data removed]",
      "text/plain": [
       "<Figure size 720x432 with 1 Axes>"
      ]
     },
     "metadata": {
      "needs_background": "light"
     },
     "output_type": "display_data"
    }
   ],
   "source": [
    "from sklearn.metrics import accuracy_score, precision_score, recall_score, f1_score, classification_report\n",
    "import matplotlib.pyplot as plt\n",
    "import numpy as np\n",
    "\n",
    "# Define models\n",
    "models = {\n",
    "    \"Random Forest\": RandomForestClassifier(n_estimators=100, random_state=42),\n",
    "    \"Logistic Regression\": LogisticRegression(max_iter=1000, random_state=42),\n",
    "    \"SVM\": SVC(kernel='linear', random_state=42),\n",
    "    \"Neural Network\": MLPClassifier(hidden_layer_sizes=(100,), max_iter=1000, random_state=42),\n",
    "    \"Naive Bayes\": MultinomialNB(),\n",
    "    \"Passive Aggressive Classifier\": PassiveAggressiveClassifier(max_iter=1000, random_state=42)\n",
    "}\n",
    "\n",
    "# Initialize metric lists\n",
    "accuracy = []\n",
    "precision = []\n",
    "recall = []\n",
    "f1_scores = []\n",
    "model_names = []\n",
    "\n",
    "# Train, predict, and compute metrics for each model\n",
    "for name, model in models.items():\n",
    "    print(f\"Training and evaluating {name}...\")\n",
    "    # Train the model\n",
    "    model.fit(X_train, y_train)\n",
    "    # Predict\n",
    "    y_pred = model.predict(X_test)\n",
    "    # Compute metrics\n",
    "    acc = accuracy_score(y_test, y_pred)\n",
    "    prec = precision_score(y_test, y_pred, average='weighted')  # Use 'macro' for unweighted\n",
    "    rec = recall_score(y_test, y_pred, average='weighted')\n",
    "    f1 = f1_score(y_test, y_pred, average='weighted')\n",
    "    # Append metrics and model name\n",
    "    accuracy.append(acc)\n",
    "    precision.append(prec)\n",
    "    recall.append(rec)\n",
    "    f1_scores.append(f1)\n",
    "    model_names.append(name)\n",
    "    # Print classification report\n",
    "    print(f\"Metrics for {name}:\\n{classification_report(y_test, y_pred)}\")\n",
    "\n",
    "# Visualization\n",
    "x = np.arange(len(model_names))\n",
    "width = 0.2\n",
    "\n",
    "fig, ax = plt.subplots(figsize=(10, 6))\n",
    "ax.bar(x - width, accuracy, width, label='Accuracy', color='blue')\n",
    "ax.bar(x, precision, width, label='Precision', color='green')\n",
    "ax.bar(x + width, recall, width, label='Recall', color='orange')\n",
    "ax.bar(x + 2 * width, f1_scores, width, label='F1-score', color='red')\n",
    "\n",
    "# Add labels and legend\n",
    "ax.set_xlabel('Models')\n",
    "ax.set_ylabel('Scores')\n",
    "ax.set_title('Comparison of Model Performance')\n",
    "ax.set_xticks(x)\n",
    "ax.set_xticklabels(model_names, rotation=30)\n",
    "ax.legend()\n",
    "\n",
    "# Display the plot\n",
    "plt.tight_layout()\n",
    "plt.show()\n"
   ]
  },
  {
   "cell_type": "code",
   "execution_count": null,
   "id": "45ec9bcd",
   "metadata": {},
   "outputs": [],
   "source": []
  }
 ],
 "metadata": {
  "kernelspec": {
   "display_name": "Python 3 (ipykernel)",
   "language": "python",
   "name": "python3"
  },
  "language_info": {
   "codemirror_mode": {
    "name": "ipython",
    "version": 3
   },
   "file_extension": ".py",
   "mimetype": "text/x-python",
   "name": "python",
   "nbconvert_exporter": "python",
   "pygments_lexer": "ipython3",
   "version": "3.9.7"
  }
 },
 "nbformat": 4,
 "nbformat_minor": 5
}
